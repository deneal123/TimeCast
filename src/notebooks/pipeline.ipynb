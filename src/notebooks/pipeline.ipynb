{
 "cells": [
  {
   "cell_type": "markdown",
   "id": "c8cff989-70c8-4e1d-98ce-26df656c5efc",
   "metadata": {},
   "source": [
    "# Домашняя работа №3 по дисциплине «Временные ряды» \n",
    "\n",
    "<hr style=\"border: 1px solid rgba(50, 50, 255, 0.5); width: 100%;\">\n",
    "\n",
    "Выполнил:  \n",
    "**Вольхин Данил Федорович**\n",
    "\n",
    "Email:  \n",
    "[dfvolkhin@edu.hse.ru](mailto:dfvolkhin@edu.hse.ru)\n",
    "\n",
    "Дата:  \n",
    "**06 ноября 2024**\n",
    "\n",
    "<hr style=\"border: 1px solid rgba(50, 50, 255, 0.5); width: 100%;\">\n",
    "\n",
    "😊 Третий раз в жизни делаю посадку на юпитер 😊"
   ]
  },
  {
   "cell_type": "markdown",
   "id": "832b41df-147d-4257-9559-b65b88452cec",
   "metadata": {},
   "source": [
    "## ANSI коды для цветов текста"
   ]
  },
  {
   "cell_type": "code",
   "id": "5cc35e4c-c5b0-41ff-9868-f74d53e995a3",
   "metadata": {
    "ExecuteTime": {
     "end_time": "2024-12-22T23:23:02.099397Z",
     "start_time": "2024-12-22T23:23:02.084393Z"
    }
   },
   "source": [
    "RED = \"\\033[31m\"\n",
    "GREEN = \"\\033[32m\"\n",
    "YELLOW = \"\\033[33m\"\n",
    "BLUE = \"\\033[34m\"\n",
    "RESET = \"\\033[0m\"  # сброс цветов до стандартных"
   ],
   "outputs": [],
   "execution_count": 1
  },
  {
   "cell_type": "markdown",
   "id": "97409080-466d-452d-8015-487187c84783",
   "metadata": {},
   "source": [
    "## Шаблоны markdown"
   ]
  },
  {
   "cell_type": "markdown",
   "id": "e80353f2-0c9c-4d90-878b-d414f99ced8d",
   "metadata": {},
   "source": [
    "<span style=\"color: green;\"># Это комментарий в коде</span><br>\n",
    "<span style=\"color: blue;\">def</span> greet(name):<br>\n",
    "<span style=\"color: red;\">print</span>(f\"Hello, {name}!\")\n",
    "<hr style=\"border: 1px solid rgba(50, 50, 255, 0.5); width: 100%;\">\n",
    "<pre style=\"background-color: #F5F5F5; padding: 10px; border-radius: 5px; font-family: monospace;\">code</pre>"
   ]
  },
  {
   "cell_type": "markdown",
   "id": "aa50b6e9-6ce7-4486-af49-e54a4202c9b8",
   "metadata": {},
   "source": [
    "## Установка библиотек"
   ]
  },
  {
   "cell_type": "code",
   "id": "ba72d3d8-cf4f-4816-872e-460ffd76b3ca",
   "metadata": {
    "ExecuteTime": {
     "end_time": "2024-12-22T23:23:11.043747Z",
     "start_time": "2024-12-22T23:23:11.028745Z"
    }
   },
   "source": [
    "# !pip install numpy==1.26.4 pandas==2.2.1 pmdarima matplotlib scipy seaborn scikit-learn duckdb pydantic rich\n",
    "# !pip install sktime\n",
    "# !pip install tensorflow-intel\n",
    "# !pip install tqdm\n",
    "# !pip install prophet\n",
    "# !pip install tbats\n",
    "# !pip install torch --index-url https://download.pytorch.org/whl/cu118\n",
    "# !pip install iTransformer\n",
    "# !pip install etsformer-pytorch\n",
    "# !pip install huggingface_hub"
   ],
   "outputs": [],
   "execution_count": 2
  },
  {
   "cell_type": "markdown",
   "id": "54168b4f-a0f1-4e79-8a6c-0e220547565e",
   "metadata": {},
   "source": [
    "# Подготовка к написанию кода"
   ]
  },
  {
   "cell_type": "markdown",
   "id": "529b51c2-f938-4853-9464-9b7110a2a029",
   "metadata": {},
   "source": [
    "## Очистка лога"
   ]
  },
  {
   "cell_type": "code",
   "id": "096aa33c-493e-44c5-bd14-b975216ff202",
   "metadata": {
    "ExecuteTime": {
     "end_time": "2024-12-22T23:23:14.809399Z",
     "start_time": "2024-12-22T23:23:14.734381Z"
    }
   },
   "source": [
    "import subprocess\n",
    "result = subprocess.run(['python', \"./library/clear_setup_log.py\"], capture_output=True, text=True)\n",
    "print(result.stdout)\n",
    "print(result.stderr)"
   ],
   "outputs": [
    {
     "name": "stdout",
     "output_type": "stream",
     "text": [
      "\n",
      "python: can't open file 'C:\\App\\ReactProject\\domains\\TimeCast\\server\\src\\notebooks\\library\\clear_setup_log.py': [Errno 2] No such file or directory\n",
      "\n"
     ]
    }
   ],
   "execution_count": 3
  },
  {
   "cell_type": "markdown",
   "id": "4b11fa46-4fa7-41b7-98d3-8d80e28700ec",
   "metadata": {},
   "source": [
    "## Импорт библиотек"
   ]
  },
  {
   "cell_type": "code",
   "id": "f4d98e29-c84c-4b4a-8130-368a15a993e2",
   "metadata": {
    "ExecuteTime": {
     "end_time": "2024-12-22T23:24:36.637516Z",
     "start_time": "2024-12-22T23:24:36.625514Z"
    }
   },
   "source": [
    "print(f\"{YELLOW}\"+60*\"-\"+f\"{RESET}\")\n",
    "print(f\"Библиотеки: \\n\")\n",
    "\n",
    "# Дополнительные библиотеки\n",
    "import platform # Узнать версию пайтона ;)\n",
    "\n",
    "# Основные библиотеки\n",
    "import IPython.display as ipd # Добавляет виджеты для ячеек юпитера\n",
    "from IPython import get_ipython\n",
    "import ipykernel\n",
    "print(f\"python: {GREEN}{platform.python_version()}{RESET} \")\n",
    "import matplotlib # Для рисунков\n",
    "print(f\"matplotlib: {GREEN}{matplotlib.__version__}{RESET}\")\n",
    "import seaborn as sns # Для работы с рисунками тоже\n",
    "print(f\"seaborn: {GREEN}{sns.__version__}{RESET}\")\n",
    "import numpy as np # Для работы с массивами\n",
    "print(f\"numpy: {GREEN}{np.__version__}{RESET}\")\n",
    "import pandas as pd # Работа с таблицами\n",
    "print(f\"pandas: {GREEN}{pd.__version__}{RESET}\")\n",
    "import sklearn # Много полезного для ML\n",
    "print(f\"sklearn: {GREEN}{sklearn.__version__}{RESET}\")\n",
    "import scipy\n",
    "print(f\"scipy: {GREEN}{scipy.__version__}{RESET}\")\n",
    "import statsmodels\n",
    "print(f\"statsmodels: {GREEN}{statsmodels.__version__}{RESET}\")\n",
    "import pydantic # Для валидации данных\n",
    "print(f\"pydantic: {GREEN}{pydantic.__version__}{RESET}\")\n",
    "import sktime\n",
    "print(f\"sktime: {GREEN}{sktime.__version__}{RESET}\")\n",
    "import duckdb as db\n",
    "print(f\"duckdb: {GREEN}{db.__version__}{RESET}\")\n",
    "\n",
    "print(f\"{YELLOW}\"+60*\"-\"+f\"{RESET}\")\n",
    "\n",
    "try:\n",
    "    # Импорт кастомной библиотеки\n",
    "    from src.library import *\n",
    "    from src.utils.custom_logging import setup_logging\n",
    "    log = setup_logging(debug=False)\n",
    "    from src.utils.pythonpath import set_pythonpath\n",
    "except ModuleNotFoundError as e:\n",
    "    print(f\"Ошибка импорта: {RED}{e}{RESET}\")\n",
    "\n",
    "print(f\"Кастомные функции, методы, классы: \\n\")\n",
    "print(f\"{BLUE}SeasonAnalyticPipeline{RESET}\")\n",
    "print(f\"{BLUE}ClassicGraduatePipeline{RESET}\")\n",
    "print(f\"{BLUE}ClassicInferencePipeline{RESET}\")\n",
    "print(f\"{BLUE}NeiroGraduatePipeline{RESET}\")\n",
    "print(f\"{BLUE}NeiroInferencePipeline{RESET}\")\n",
    "print(f\"{BLUE}validate_with_pydantic{RESET}\")\n",
    "print(f\"{BLUE}setup_logging{RESET}\")\n",
    "print(f\"{BLUE}clear_setup_log{RESET}\")\n",
    "print(f\"{BLUE}create_directories_if_not_exist{RESET}\")\n",
    "print(f\"{BLUE}set_pythonpath{RESET}\")\n",
    "    \n",
    "print(f\"{YELLOW}\"+60*\"-\"+f\"{RESET}\")\n",
    "sns.set(style=\"darkgrid\")"
   ],
   "outputs": [
    {
     "name": "stdout",
     "output_type": "stream",
     "text": [
      "\u001B[33m------------------------------------------------------------\u001B[0m\n",
      "Библиотеки: \n",
      "\n",
      "python: \u001B[32m3.9.16\u001B[0m \n",
      "matplotlib: \u001B[32m3.9.3\u001B[0m\n",
      "seaborn: \u001B[32m0.13.2\u001B[0m\n",
      "numpy: \u001B[32m1.26.4\u001B[0m\n",
      "pandas: \u001B[32m2.2.1\u001B[0m\n",
      "sklearn: \u001B[32m1.5.2\u001B[0m\n",
      "scipy: \u001B[32m1.13.1\u001B[0m\n",
      "statsmodels: \u001B[32m0.14.4\u001B[0m\n",
      "pydantic: \u001B[32m2.10.3\u001B[0m\n",
      "sktime: \u001B[32m0.34.1\u001B[0m\n",
      "duckdb: \u001B[32m1.1.3\u001B[0m\n",
      "\u001B[33m------------------------------------------------------------\u001B[0m\n",
      "Кастомные функции, методы, классы: \n",
      "\n",
      "\u001B[34mSeasonAnalyticPipeline\u001B[0m\n",
      "\u001B[34mClassicGraduatePipeline\u001B[0m\n",
      "\u001B[34mClassicInferencePipeline\u001B[0m\n",
      "\u001B[34mNeiroGraduatePipeline\u001B[0m\n",
      "\u001B[34mNeiroInferencePipeline\u001B[0m\n",
      "\u001B[34mvalidate_with_pydantic\u001B[0m\n",
      "\u001B[34msetup_logging\u001B[0m\n",
      "\u001B[34mclear_setup_log\u001B[0m\n",
      "\u001B[34mcreate_directories_if_not_exist\u001B[0m\n",
      "\u001B[34mset_pythonpath\u001B[0m\n",
      "\u001B[33m------------------------------------------------------------\u001B[0m\n"
     ]
    }
   ],
   "execution_count": 7
  },
  {
   "cell_type": "markdown",
   "id": "5da3b5c2-50dd-447b-8c9e-6a5331827982",
   "metadata": {},
   "source": [
    "## Дополнительные настройки"
   ]
  },
  {
   "cell_type": "code",
   "id": "66b4fe94-c8e3-427f-a42d-cd7b64c7cf70",
   "metadata": {
    "ExecuteTime": {
     "end_time": "2024-12-22T23:24:48.130971Z",
     "start_time": "2024-12-22T23:24:47.989617Z"
    }
   },
   "source": [
    "import warnings\n",
    "warnings.filterwarnings(\"ignore\")\n",
    "import logging\n",
    "# Отключение логирования для cmdstanpy\n",
    "logging.getLogger('cmdstanpy').setLevel(logging.ERROR)\n",
    "# Отключение логирования для других библиотек (если нужно)\n",
    "logging.getLogger('fbprophet').setLevel(logging.ERROR)  # Для старых версий Prophet\n",
    "logging.getLogger('prophet').setLevel(logging.ERROR)    # Для новых версий Prophet\n",
    "# Полезна при разработке собственных библиотек, юпитер будет переимпортировать модули, если в них были изменения\n",
    "%load_ext autoreload\n",
    "%autoreload 1"
   ],
   "outputs": [],
   "execution_count": 8
  },
  {
   "cell_type": "markdown",
   "id": "d4122491-ba74-4a3c-9ddf-d227484cf5c5",
   "metadata": {},
   "source": [
    "## Переменные среды"
   ]
  },
  {
   "cell_type": "code",
   "id": "57890819-5384-478c-83ab-58f916bc8a27",
   "metadata": {
    "ExecuteTime": {
     "end_time": "2024-12-22T23:24:51.592467Z",
     "start_time": "2024-12-22T23:24:51.582466Z"
    }
   },
   "source": [
    "set_pythonpath()"
   ],
   "outputs": [
    {
     "name": "stdout",
     "output_type": "stream",
     "text": [
      "Текущая директория проекта: C:\\App\\ReactProject\\domains\\TimeCast\\server\\src\\notebooks\n",
      "PYTHONPATH: C:\\App\\ReactProject\\domains\\TimeCast\\server\\src\\notebooks:C:\\App\\ReactProject\\domains\\TimeCast\\server;C:/Program Files/JetBrains/PyCharm 2024.3/plugins/python-ce/helpers/pydev;C:/Program Files/JetBrains/PyCharm 2024.3/plugins/python/helpers-pro/jupyter_debug\n"
     ]
    }
   ],
   "execution_count": 9
  },
  {
   "cell_type": "markdown",
   "id": "ebe1d677-66e7-4e12-a0c9-84603e987092",
   "metadata": {},
   "source": [
    "# Пайплайны для классических и не очень моделей"
   ]
  },
  {
   "cell_type": "markdown",
   "id": "a9af5ae7-a998-408b-8229-d2bc8c5e2fb0",
   "metadata": {},
   "source": [
    "## Сезонная аналитика\n",
    "\n",
    "<span style=\"color: green;\">Shift+Tab по классу SeasonAnalitic для просмотра pydantic модели с примерами</span></br>"
   ]
  },
  {
   "cell_type": "code",
   "id": "c5ec6169-385e-40b5-a7ce-5dd02af934f7",
   "metadata": {
    "ExecuteTime": {
     "end_time": "2024-12-22T23:25:53.999624Z",
     "start_time": "2024-12-22T23:25:02.137442Z"
    }
   },
   "source": [
    "season_analytic_pipeline = validate_with_pydantic(EntrySeasonAnalyticPipeline)(SeasonAnalyticPipeline)(\n",
    "    entry = {\n",
    "        \"dataset\": {\n",
    "            \"store_id\": \"STORE_1\",\n",
    "            \"shop_sales\": \"./data/shop_sales.csv\",\n",
    "            \"shop_sales_dates\": \"./data/shop_sales_dates.csv\",\n",
    "            \"shop_sales_prices\": \"./data/shop_sales_prices.csv\"\n",
    "        },\n",
    "        \"proccess\": {\n",
    "            \"dictdecompose\": {\n",
    "                \"week\": 7,\n",
    "                \"month\": 30,\n",
    "                \"quarter\": 90\n",
    "            },\n",
    "            \"remove_bound\": {\n",
    "                \"lower_bound_factor\": 10,\n",
    "                \"upper_bound_factor\": 10\n",
    "            }\n",
    "        }\n",
    "    }\n",
    ")"
   ],
   "outputs": [],
   "execution_count": 10
  },
  {
   "cell_type": "markdown",
   "id": "4731f26e-48bd-486d-b570-51b043683c80",
   "metadata": {},
   "source": [
    "## Обучение классических моделей\n",
    "\n",
    "<span style=\"color: green;\">Shift+Tab по классу ClassicDataset для просмотра pydantic модели с примерами</span></br>"
   ]
  },
  {
   "cell_type": "code",
   "id": "2927d82d-b4a3-456a-8855-94af330116d8",
   "metadata": {
    "scrolled": true,
    "ExecuteTime": {
     "end_time": "2024-12-22T23:26:34.532396Z",
     "start_time": "2024-12-22T23:26:22.416961Z"
    }
   },
   "source": [
    "classic_graduate_pipeline = validate_with_pydantic(EntryClassicGraduatePipeline)(ClassicGraduatePipeline)(\n",
    "    entry = {\n",
    "        \"dataset\": {\n",
    "            \"store_id\": \"STORE_1\",\n",
    "            \"shop_sales\": \"./data/shop_sales.csv\",\n",
    "            \"shop_sales_dates\": \"./data/shop_sales_dates.csv\",\n",
    "            \"shop_sales_prices\": \"./data/shop_sales_prices.csv\"\n",
    "        },\n",
    "        \"graduate\": {\n",
    "            \"dictseasonal\": {\n",
    "                \"week\": 7,\n",
    "                \"month\": 30,\n",
    "                \"quarter\": 90\n",
    "            },\n",
    "            \"models_params\": {\n",
    "                \"AUTOARIMA\": (7, 3, 1, 1, 1, 1, 'week'),\n",
    "                \"AUTOETS\": ('week',),\n",
    "                \"AUTOREG\": (90, 'week'),\n",
    "                \"PROPHET\": (90,),\n",
    "                # \"TBATS\": (None,)\n",
    "            }\n",
    "        }\n",
    "    }\n",
    ")"
   ],
   "outputs": [
    {
     "data": {
      "text/plain": [
       "\u001B[2;36m02:26:26-354237\u001B[0m\u001B[2;36m \u001B[0m\u001B[34mINFO    \u001B[0m Model train: AUTOARIMA for period week                                                    \n"
      ],
      "text/html": [
       "<pre style=\"white-space:pre;overflow-x:auto;line-height:normal;font-family:Menlo,'DejaVu Sans Mono',consolas,'Courier New',monospace\"><span style=\"color: #7fbfbf; text-decoration-color: #7fbfbf\">02:26:26-354237 </span><span style=\"color: #000080; text-decoration-color: #000080\">INFO    </span> Model train: AUTOARIMA for period week                                                    \n",
       "</pre>\n"
      ]
     },
     "metadata": {},
     "output_type": "display_data"
    },
    {
     "name": "stderr",
     "output_type": "stream",
     "text": [
      "  0%|          | 0/3 [00:04<?, ?split/s]\n"
     ]
    },
    {
     "data": {
      "text/plain": [
       "\u001B[30m╭─\u001B[0m\u001B[30m──────────────────────────────────────\u001B[0m\u001B[30m \u001B[0m\u001B[1;31mTraceback \u001B[0m\u001B[1;2;31m(most recent call last)\u001B[0m\u001B[30m \u001B[0m\u001B[30m──────────────────────────────────────\u001B[0m\u001B[30m─╮\u001B[0m\n",
       "\u001B[30m│\u001B[0m in \u001B[92m<module>\u001B[0m:\u001B[94m1\u001B[0m                                                                                                   \u001B[30m│\u001B[0m\n",
       "\u001B[30m│\u001B[0m                                                                                                                 \u001B[30m│\u001B[0m\n",
       "\u001B[30m│\u001B[0m \u001B[31m❱ \u001B[0m 1 classic_graduate_pipeline = validate_with_pydantic(EntryClassicGraduatePipeline)(Classic                   \u001B[30m│\u001B[0m\n",
       "\u001B[30m│\u001B[0m   \u001B[2m 2 \u001B[0m    entry = {                                                                                              \u001B[30m│\u001B[0m\n",
       "\u001B[30m│\u001B[0m                                                                                                                 \u001B[30m│\u001B[0m\n",
       "\u001B[30m│\u001B[0m \u001B[33mC:\\App\\ReactProject\\domains\\TimeCast\\server\\src\\library\\pydantic_models.py\u001B[0m:\u001B[94m32\u001B[0m in \u001B[92mwrapper\u001B[0m                        \u001B[30m│\u001B[0m\n",
       "\u001B[30m│\u001B[0m                                                                                                                 \u001B[30m│\u001B[0m\n",
       "\u001B[30m│\u001B[0m   \u001B[2m 31 \u001B[0m                kwargs[\u001B[33m\"\u001B[0m\u001B[33mentry\u001B[0m\u001B[33m\"\u001B[0m] = validated_data                                                          \u001B[30m│\u001B[0m\n",
       "\u001B[30m│\u001B[0m \u001B[31m❱ \u001B[0m 32                 \u001B[94mreturn\u001B[0m func(*args, **kwargs)                                                              \u001B[30m│\u001B[0m\n",
       "\u001B[30m│\u001B[0m   \u001B[2m 33 \u001B[0m            \u001B[94mexcept\u001B[0m ValidationError \u001B[94mas\u001B[0m ve:                                                                 \u001B[30m│\u001B[0m\n",
       "\u001B[30m│\u001B[0m in \u001B[92m__init__\u001B[0m:\u001B[94m4\u001B[0m                                                                                                   \u001B[30m│\u001B[0m\n",
       "\u001B[30m│\u001B[0m                                                                                                                 \u001B[30m│\u001B[0m\n",
       "\u001B[30m│\u001B[0m \u001B[33mC:\\App\\ReactProject\\domains\\TimeCast\\server\\src\\library\\ClassicGraduatePipeline.py\u001B[0m:\u001B[94m57\u001B[0m in \u001B[92m__post_init__\u001B[0m          \u001B[30m│\u001B[0m\n",
       "\u001B[30m│\u001B[0m                                                                                                                 \u001B[30m│\u001B[0m\n",
       "\u001B[30m│\u001B[0m   \u001B[2m56 \u001B[0m                                                                                                           \u001B[30m│\u001B[0m\n",
       "\u001B[30m│\u001B[0m \u001B[31m❱ \u001B[0m57         \u001B[96mself\u001B[0m.classic_graduate.graduate()                                                                   \u001B[30m│\u001B[0m\n",
       "\u001B[30m│\u001B[0m   \u001B[2m58 \u001B[0m                                                                                                           \u001B[30m│\u001B[0m\n",
       "\u001B[30m│\u001B[0m                                                                                                                 \u001B[30m│\u001B[0m\n",
       "\u001B[30m│\u001B[0m \u001B[33mC:\\App\\ReactProject\\domains\\TimeCast\\server\\src\\library\\ClassicGraduate.py\u001B[0m:\u001B[94m76\u001B[0m in \u001B[92mgraduate\u001B[0m                       \u001B[30m│\u001B[0m\n",
       "\u001B[30m│\u001B[0m                                                                                                                 \u001B[30m│\u001B[0m\n",
       "\u001B[30m│\u001B[0m   \u001B[2m 75 \u001B[0m                                                                                                          \u001B[30m│\u001B[0m\n",
       "\u001B[30m│\u001B[0m \u001B[31m❱ \u001B[0m 76             best_models, best_params, best_rmses, best_r2s = \u001B[96mself\u001B[0m.train_model(series, ex                  \u001B[30m│\u001B[0m\n",
       "\u001B[30m│\u001B[0m   \u001B[2m 77 \u001B[0m                                                                                                          \u001B[30m│\u001B[0m\n",
       "\u001B[30m│\u001B[0m                                                                                                                 \u001B[30m│\u001B[0m\n",
       "\u001B[30m│\u001B[0m \u001B[33mC:\\App\\ReactProject\\domains\\TimeCast\\server\\src\\library\\ClassicGraduate.py\u001B[0m:\u001B[94m146\u001B[0m in \u001B[92mtrain_model\u001B[0m                   \u001B[30m│\u001B[0m\n",
       "\u001B[30m│\u001B[0m                                                                                                                 \u001B[30m│\u001B[0m\n",
       "\u001B[30m│\u001B[0m   \u001B[2m145 \u001B[0m                        \u001B[94mtry\u001B[0m:                                                                              \u001B[30m│\u001B[0m\n",
       "\u001B[30m│\u001B[0m \u001B[31m❱ \u001B[0m146                             rmse, r2, pred, tss = \u001B[96mself\u001B[0m.calc_optimum(train, test, exogeno                  \u001B[30m│\u001B[0m\n",
       "\u001B[30m│\u001B[0m   \u001B[2m147 \u001B[0m                                                                    item_id)                              \u001B[30m│\u001B[0m\n",
       "\u001B[30m│\u001B[0m                                                                                                                 \u001B[30m│\u001B[0m\n",
       "\u001B[30m│\u001B[0m \u001B[33mC:\\App\\ReactProject\\domains\\TimeCast\\server\\src\\library\\ClassicGraduate.py\u001B[0m:\u001B[94m228\u001B[0m in \u001B[92mcalc_optimum\u001B[0m                  \u001B[30m│\u001B[0m\n",
       "\u001B[30m│\u001B[0m                                                                                                                 \u001B[30m│\u001B[0m\n",
       "\u001B[30m│\u001B[0m   \u001B[2m227 \u001B[0m        tss = ClassicModel.create_model(model, train, test, exogenous)                                    \u001B[30m│\u001B[0m\n",
       "\u001B[30m│\u001B[0m \u001B[31m❱ \u001B[0m228         tss.fit(*param)                                                                                   \u001B[30m│\u001B[0m\n",
       "\u001B[30m│\u001B[0m   \u001B[2m229 \u001B[0m        pred = tss.pred()                                                                                 \u001B[30m│\u001B[0m\n",
       "\u001B[30m│\u001B[0m                                                                                                                 \u001B[30m│\u001B[0m\n",
       "\u001B[30m│\u001B[0m \u001B[33mC:\\App\\ReactProject\\domains\\TimeCast\\server\\src\\library\\ClassicModel.py\u001B[0m:\u001B[94m163\u001B[0m in \u001B[92mfit\u001B[0m                              \u001B[30m│\u001B[0m\n",
       "\u001B[30m│\u001B[0m                                                                                                                 \u001B[30m│\u001B[0m\n",
       "\u001B[30m│\u001B[0m   \u001B[2m162 \u001B[0m        \u001B[96mself\u001B[0m.model = ARIMA(order=(p, \u001B[94m0\u001B[0m, q))                                                               \u001B[30m│\u001B[0m\n",
       "\u001B[30m│\u001B[0m \u001B[31m❱ \u001B[0m163         \u001B[96mself\u001B[0m.model.fit(y=\u001B[96mself\u001B[0m.train)  \u001B[2m# X=self.exogenous.loc[self.train.index].fillna(0)\u001B[0m                  \u001B[30m│\u001B[0m\n",
       "\u001B[30m│\u001B[0m   \u001B[2m164 \u001B[0m                                                                                                          \u001B[30m│\u001B[0m\n",
       "\u001B[30m│\u001B[0m                                                                                                                 \u001B[30m│\u001B[0m\n",
       "\u001B[30m│\u001B[0m \u001B[33mC:\\App\\ReactProject\\domains\\TimeCast\\server\\venv\\lib\\site-packages\\sktime\\forecasting\\base\\_base.py\u001B[0m:\u001B[94m395\u001B[0m in \u001B[92mfit\u001B[0m  \u001B[30m│\u001B[0m\n",
       "\u001B[30m│\u001B[0m                                                                                                                 \u001B[30m│\u001B[0m\n",
       "\u001B[30m│\u001B[0m   \u001B[2m 394 \u001B[0m        \u001B[94mif\u001B[0m \u001B[95mnot\u001B[0m vectorization_needed:                                                                     \u001B[30m│\u001B[0m\n",
       "\u001B[30m│\u001B[0m \u001B[31m❱ \u001B[0m 395             \u001B[96mself\u001B[0m._fit(y=y_inner, X=X_inner, fh=fh)                                                       \u001B[30m│\u001B[0m\n",
       "\u001B[30m│\u001B[0m   \u001B[2m 396 \u001B[0m        \u001B[94melse\u001B[0m:                                                                                            \u001B[30m│\u001B[0m\n",
       "\u001B[30m│\u001B[0m                                                                                                                 \u001B[30m│\u001B[0m\n",
       "\u001B[30m│\u001B[0m \u001B[33mC:\\App\\ReactProject\\domains\\TimeCast\\server\\venv\\lib\\site-packages\\sktime\\forecasting\\base\\adapters\\_pmdarima.p\u001B[0m \u001B[30m│\u001B[0m\n",
       "\u001B[30m│\u001B[0m \u001B[33my\u001B[0m:\u001B[94m55\u001B[0m in \u001B[92m_fit\u001B[0m                                                                                                    \u001B[30m│\u001B[0m\n",
       "\u001B[30m│\u001B[0m                                                                                                                 \u001B[30m│\u001B[0m\n",
       "\u001B[30m│\u001B[0m   \u001B[2m 54 \u001B[0m        \u001B[96mself\u001B[0m._forecaster = \u001B[96mself\u001B[0m._instantiate_model()                                                      \u001B[30m│\u001B[0m\n",
       "\u001B[30m│\u001B[0m \u001B[31m❱ \u001B[0m 55         \u001B[96mself\u001B[0m._forecaster.fit(y, X=X)                                                                      \u001B[30m│\u001B[0m\n",
       "\u001B[30m│\u001B[0m   \u001B[2m 56 \u001B[0m        \u001B[94mreturn\u001B[0m \u001B[96mself\u001B[0m                                                                                       \u001B[30m│\u001B[0m\n",
       "\u001B[30m│\u001B[0m                                                                                                                 \u001B[30m│\u001B[0m\n",
       "\u001B[30m│\u001B[0m \u001B[33mC:\\App\\ReactProject\\domains\\TimeCast\\server\\venv\\lib\\site-packages\\pmdarima\\arima\\arima.py\u001B[0m:\u001B[94m603\u001B[0m in \u001B[92mfit\u001B[0m           \u001B[30m│\u001B[0m\n",
       "\u001B[30m│\u001B[0m                                                                                                                 \u001B[30m│\u001B[0m\n",
       "\u001B[30m│\u001B[0m   \u001B[2m 602 \u001B[0m        \u001B[2m# Internal call\u001B[0m                                                                                  \u001B[30m│\u001B[0m\n",
       "\u001B[30m│\u001B[0m \u001B[31m❱ \u001B[0m 603         \u001B[96mself\u001B[0m._fit(y, X, **fit_args)                                                                      \u001B[30m│\u001B[0m\n",
       "\u001B[30m│\u001B[0m   \u001B[2m 604 \u001B[0m                                                                                                         \u001B[30m│\u001B[0m\n",
       "\u001B[30m│\u001B[0m                                                                                                                 \u001B[30m│\u001B[0m\n",
       "\u001B[30m│\u001B[0m \u001B[33mC:\\App\\ReactProject\\domains\\TimeCast\\server\\venv\\lib\\site-packages\\pmdarima\\arima\\arima.py\u001B[0m:\u001B[94m526\u001B[0m in \u001B[92m_fit\u001B[0m          \u001B[30m│\u001B[0m\n",
       "\u001B[30m│\u001B[0m                                                                                                                 \u001B[30m│\u001B[0m\n",
       "\u001B[30m│\u001B[0m   \u001B[2m 525 \u001B[0m        \u001B[94melse\u001B[0m:                                                                                            \u001B[30m│\u001B[0m\n",
       "\u001B[30m│\u001B[0m \u001B[31m❱ \u001B[0m 526             fit, \u001B[96mself\u001B[0m.arima_res_ = _fit_wrapper()                                                        \u001B[30m│\u001B[0m\n",
       "\u001B[30m│\u001B[0m   \u001B[2m 527 \u001B[0m                                                                                                         \u001B[30m│\u001B[0m\n",
       "\u001B[30m│\u001B[0m                                                                                                                 \u001B[30m│\u001B[0m\n",
       "\u001B[30m│\u001B[0m \u001B[33mC:\\App\\ReactProject\\domains\\TimeCast\\server\\venv\\lib\\site-packages\\pmdarima\\arima\\arima.py\u001B[0m:\u001B[94m510\u001B[0m in \u001B[92m_fit_wrapper\u001B[0m  \u001B[30m│\u001B[0m\n",
       "\u001B[30m│\u001B[0m                                                                                                                 \u001B[30m│\u001B[0m\n",
       "\u001B[30m│\u001B[0m   \u001B[2m 509 \u001B[0m            disp = fit_args.pop(\u001B[33m\"\u001B[0m\u001B[33mdisp\u001B[0m\u001B[33m\"\u001B[0m, \u001B[94m0\u001B[0m)                                                               \u001B[30m│\u001B[0m\n",
       "\u001B[30m│\u001B[0m \u001B[31m❱ \u001B[0m 510             fitted = arima.fit(                                                                          \u001B[30m│\u001B[0m\n",
       "\u001B[30m│\u001B[0m   \u001B[2m 511 \u001B[0m                start_params=start_params,                                                               \u001B[30m│\u001B[0m\n",
       "\u001B[30m│\u001B[0m                                                                                                                 \u001B[30m│\u001B[0m\n",
       "\u001B[30m│\u001B[0m \u001B[33mC:\\App\\ReactProject\\domains\\TimeCast\\server\\venv\\lib\\site-packages\\statsmodels\\tsa\\statespace\\mlemodel.py\u001B[0m:\u001B[94m705\u001B[0m   \u001B[30m│\u001B[0m\n",
       "\u001B[30m│\u001B[0m in \u001B[92mfit\u001B[0m                                                                                                          \u001B[30m│\u001B[0m\n",
       "\u001B[30m│\u001B[0m                                                                                                                 \u001B[30m│\u001B[0m\n",
       "\u001B[30m│\u001B[0m   \u001B[2m 704 \u001B[0m            fargs = (flags,)                                                                             \u001B[30m│\u001B[0m\n",
       "\u001B[30m│\u001B[0m \u001B[31m❱ \u001B[0m 705             mlefit = \u001B[96msuper\u001B[0m().fit(start_params, method=method,                                            \u001B[30m│\u001B[0m\n",
       "\u001B[30m│\u001B[0m   \u001B[2m 706 \u001B[0m                                 fargs=fargs,                                                            \u001B[30m│\u001B[0m\n",
       "\u001B[30m│\u001B[0m                                                                                                                 \u001B[30m│\u001B[0m\n",
       "\u001B[30m│\u001B[0m \u001B[33mC:\\App\\ReactProject\\domains\\TimeCast\\server\\venv\\lib\\site-packages\\statsmodels\\base\\model.py\u001B[0m:\u001B[94m566\u001B[0m in \u001B[92mfit\u001B[0m         \u001B[30m│\u001B[0m\n",
       "\u001B[30m│\u001B[0m                                                                                                                 \u001B[30m│\u001B[0m\n",
       "\u001B[30m│\u001B[0m   \u001B[2m 565 \u001B[0m        optimizer = Optimizer()                                                                          \u001B[30m│\u001B[0m\n",
       "\u001B[30m│\u001B[0m \u001B[31m❱ \u001B[0m 566         xopt, retvals, optim_settings = optimizer._fit(f, score, start_params,                           \u001B[30m│\u001B[0m\n",
       "\u001B[30m│\u001B[0m   \u001B[2m 567 \u001B[0m                                                       fargs, kwargs,                                    \u001B[30m│\u001B[0m\n",
       "\u001B[30m│\u001B[0m                                                                                                                 \u001B[30m│\u001B[0m\n",
       "\u001B[30m│\u001B[0m \u001B[33mC:\\App\\ReactProject\\domains\\TimeCast\\server\\venv\\lib\\site-packages\\statsmodels\\base\\optimizer.py\u001B[0m:\u001B[94m243\u001B[0m in \u001B[92m_fit\u001B[0m    \u001B[30m│\u001B[0m\n",
       "\u001B[30m│\u001B[0m                                                                                                                 \u001B[30m│\u001B[0m\n",
       "\u001B[30m│\u001B[0m   \u001B[2m 242 \u001B[0m        func = fit_funcs[method]                                                                         \u001B[30m│\u001B[0m\n",
       "\u001B[30m│\u001B[0m \u001B[31m❱ \u001B[0m 243         xopt, retvals = func(objective, gradient, start_params, fargs, kwargs,                           \u001B[30m│\u001B[0m\n",
       "\u001B[30m│\u001B[0m   \u001B[2m 244 \u001B[0m                             disp=disp, maxiter=maxiter, callback=callback,                              \u001B[30m│\u001B[0m\n",
       "\u001B[30m│\u001B[0m                                                                                                                 \u001B[30m│\u001B[0m\n",
       "\u001B[30m│\u001B[0m \u001B[33mC:\\App\\ReactProject\\domains\\TimeCast\\server\\venv\\lib\\site-packages\\statsmodels\\base\\optimizer.py\u001B[0m:\u001B[94m660\u001B[0m in         \u001B[30m│\u001B[0m\n",
       "\u001B[30m│\u001B[0m \u001B[92m_fit_lbfgs\u001B[0m                                                                                                      \u001B[30m│\u001B[0m\n",
       "\u001B[30m│\u001B[0m                                                                                                                 \u001B[30m│\u001B[0m\n",
       "\u001B[30m│\u001B[0m   \u001B[2m 659 \u001B[0m                                                                                                         \u001B[30m│\u001B[0m\n",
       "\u001B[30m│\u001B[0m \u001B[31m❱ \u001B[0m 660     retvals = optimize.fmin_l_bfgs_b(func, start_params, maxiter=maxiter,                                \u001B[30m│\u001B[0m\n",
       "\u001B[30m│\u001B[0m   \u001B[2m 661 \u001B[0m                                     callback=callback, args=fargs,                                      \u001B[30m│\u001B[0m\n",
       "\u001B[30m│\u001B[0m                                                                                                                 \u001B[30m│\u001B[0m\n",
       "\u001B[30m│\u001B[0m \u001B[33mC:\\App\\ReactProject\\domains\\TimeCast\\server\\venv\\lib\\site-packages\\scipy\\optimize\\_lbfgsb_py.py\u001B[0m:\u001B[94m237\u001B[0m in          \u001B[30m│\u001B[0m\n",
       "\u001B[30m│\u001B[0m \u001B[92mfmin_l_bfgs_b\u001B[0m                                                                                                   \u001B[30m│\u001B[0m\n",
       "\u001B[30m│\u001B[0m                                                                                                                 \u001B[30m│\u001B[0m\n",
       "\u001B[30m│\u001B[0m   \u001B[2m236 \u001B[0m                                                                                                          \u001B[30m│\u001B[0m\n",
       "\u001B[30m│\u001B[0m \u001B[31m❱ \u001B[0m237     res = _minimize_lbfgsb(fun, x0, args=args, jac=jac, bounds=bounds,                                    \u001B[30m│\u001B[0m\n",
       "\u001B[30m│\u001B[0m   \u001B[2m238 \u001B[0m                           **opts)                                                                        \u001B[30m│\u001B[0m\n",
       "\u001B[30m│\u001B[0m                                                                                                                 \u001B[30m│\u001B[0m\n",
       "\u001B[30m│\u001B[0m \u001B[33mC:\\App\\ReactProject\\domains\\TimeCast\\server\\venv\\lib\\site-packages\\scipy\\optimize\\_lbfgsb_py.py\u001B[0m:\u001B[94m407\u001B[0m in          \u001B[30m│\u001B[0m\n",
       "\u001B[30m│\u001B[0m \u001B[92m_minimize_lbfgsb\u001B[0m                                                                                                \u001B[30m│\u001B[0m\n",
       "\u001B[30m│\u001B[0m                                                                                                                 \u001B[30m│\u001B[0m\n",
       "\u001B[30m│\u001B[0m   \u001B[2m406 \u001B[0m            \u001B[2m# Overwrite f and g:\u001B[0m                                                                          \u001B[30m│\u001B[0m\n",
       "\u001B[30m│\u001B[0m \u001B[31m❱ \u001B[0m407             f, g = func_and_grad(x)                                                                       \u001B[30m│\u001B[0m\n",
       "\u001B[30m│\u001B[0m   \u001B[2m408 \u001B[0m        \u001B[94melif\u001B[0m task_str.startswith(\u001B[33mb\u001B[0m\u001B[33m'\u001B[0m\u001B[33mNEW_X\u001B[0m\u001B[33m'\u001B[0m):                                                               \u001B[30m│\u001B[0m\n",
       "\u001B[30m│\u001B[0m                                                                                                                 \u001B[30m│\u001B[0m\n",
       "\u001B[30m│\u001B[0m \u001B[33mC:\\App\\ReactProject\\domains\\TimeCast\\server\\venv\\lib\\site-packages\\scipy\\optimize\\_differentiable_functions.py\u001B[0m: \u001B[30m│\u001B[0m\n",
       "\u001B[30m│\u001B[0m \u001B[94m297\u001B[0m in \u001B[92mfun_and_grad\u001B[0m                                                                                             \u001B[30m│\u001B[0m\n",
       "\u001B[30m│\u001B[0m                                                                                                                 \u001B[30m│\u001B[0m\n",
       "\u001B[30m│\u001B[0m   \u001B[2m296 \u001B[0m        \u001B[96mself\u001B[0m._update_fun()                                                                                \u001B[30m│\u001B[0m\n",
       "\u001B[30m│\u001B[0m \u001B[31m❱ \u001B[0m297         \u001B[96mself\u001B[0m._update_grad()                                                                               \u001B[30m│\u001B[0m\n",
       "\u001B[30m│\u001B[0m   \u001B[2m298 \u001B[0m        \u001B[94mreturn\u001B[0m \u001B[96mself\u001B[0m.f, \u001B[96mself\u001B[0m.g                                                                             \u001B[30m│\u001B[0m\n",
       "\u001B[30m│\u001B[0m                                                                                                                 \u001B[30m│\u001B[0m\n",
       "\u001B[30m│\u001B[0m \u001B[33mC:\\App\\ReactProject\\domains\\TimeCast\\server\\venv\\lib\\site-packages\\scipy\\optimize\\_differentiable_functions.py\u001B[0m: \u001B[30m│\u001B[0m\n",
       "\u001B[30m│\u001B[0m \u001B[94m267\u001B[0m in \u001B[92m_update_grad\u001B[0m                                                                                             \u001B[30m│\u001B[0m\n",
       "\u001B[30m│\u001B[0m                                                                                                                 \u001B[30m│\u001B[0m\n",
       "\u001B[30m│\u001B[0m   \u001B[2m266 \u001B[0m        \u001B[94mif\u001B[0m \u001B[95mnot\u001B[0m \u001B[96mself\u001B[0m.g_updated:                                                                            \u001B[30m│\u001B[0m\n",
       "\u001B[30m│\u001B[0m \u001B[31m❱ \u001B[0m267             \u001B[96mself\u001B[0m._update_grad_impl()                                                                      \u001B[30m│\u001B[0m\n",
       "\u001B[30m│\u001B[0m   \u001B[2m268 \u001B[0m            \u001B[96mself\u001B[0m.g_updated = \u001B[94mTrue\u001B[0m                                                                         \u001B[30m│\u001B[0m\n",
       "\u001B[30m│\u001B[0m                                                                                                                 \u001B[30m│\u001B[0m\n",
       "\u001B[30m│\u001B[0m \u001B[33mC:\\App\\ReactProject\\domains\\TimeCast\\server\\venv\\lib\\site-packages\\scipy\\optimize\\_differentiable_functions.py\u001B[0m: \u001B[30m│\u001B[0m\n",
       "\u001B[30m│\u001B[0m \u001B[94m181\u001B[0m in \u001B[92mupdate_grad\u001B[0m                                                                                              \u001B[30m│\u001B[0m\n",
       "\u001B[30m│\u001B[0m                                                                                                                 \u001B[30m│\u001B[0m\n",
       "\u001B[30m│\u001B[0m   \u001B[2m180 \u001B[0m                \u001B[96mself\u001B[0m.ngev += \u001B[94m1\u001B[0m                                                                            \u001B[30m│\u001B[0m\n",
       "\u001B[30m│\u001B[0m \u001B[31m❱ \u001B[0m181                 \u001B[96mself\u001B[0m.g = approx_derivative(fun_wrapped, \u001B[96mself\u001B[0m.x, f0=\u001B[96mself\u001B[0m.f,                                \u001B[30m│\u001B[0m\n",
       "\u001B[30m│\u001B[0m   \u001B[2m182 \u001B[0m                                           **finite_diff_options)                                         \u001B[30m│\u001B[0m\n",
       "\u001B[30m│\u001B[0m                                                                                                                 \u001B[30m│\u001B[0m\n",
       "\u001B[30m│\u001B[0m \u001B[33mC:\\App\\ReactProject\\domains\\TimeCast\\server\\venv\\lib\\site-packages\\scipy\\optimize\\_numdiff.py\u001B[0m:\u001B[94m519\u001B[0m in            \u001B[30m│\u001B[0m\n",
       "\u001B[30m│\u001B[0m \u001B[92mapprox_derivative\u001B[0m                                                                                               \u001B[30m│\u001B[0m\n",
       "\u001B[30m│\u001B[0m                                                                                                                 \u001B[30m│\u001B[0m\n",
       "\u001B[30m│\u001B[0m   \u001B[2m518 \u001B[0m        \u001B[94mif\u001B[0m sparsity \u001B[95mis\u001B[0m \u001B[94mNone\u001B[0m:                                                                              \u001B[30m│\u001B[0m\n",
       "\u001B[30m│\u001B[0m \u001B[31m❱ \u001B[0m519             \u001B[94mreturn\u001B[0m _dense_difference(fun_wrapped, x0, f0, h,                                              \u001B[30m│\u001B[0m\n",
       "\u001B[30m│\u001B[0m   \u001B[2m520 \u001B[0m                                     use_one_sided, method)                                               \u001B[30m│\u001B[0m\n",
       "\u001B[30m│\u001B[0m                                                                                                                 \u001B[30m│\u001B[0m\n",
       "\u001B[30m│\u001B[0m \u001B[33mC:\\App\\ReactProject\\domains\\TimeCast\\server\\venv\\lib\\site-packages\\scipy\\optimize\\_numdiff.py\u001B[0m:\u001B[94m590\u001B[0m in            \u001B[30m│\u001B[0m\n",
       "\u001B[30m│\u001B[0m \u001B[92m_dense_difference\u001B[0m                                                                                               \u001B[30m│\u001B[0m\n",
       "\u001B[30m│\u001B[0m                                                                                                                 \u001B[30m│\u001B[0m\n",
       "\u001B[30m│\u001B[0m   \u001B[2m589 \u001B[0m            dx = x[i] - x0[i]  \u001B[2m# Recompute dx as exactly representable number.\u001B[0m                            \u001B[30m│\u001B[0m\n",
       "\u001B[30m│\u001B[0m \u001B[31m❱ \u001B[0m590             df = fun(x) - f0                                                                              \u001B[30m│\u001B[0m\n",
       "\u001B[30m│\u001B[0m   \u001B[2m591 \u001B[0m        \u001B[94melif\u001B[0m method == \u001B[33m'\u001B[0m\u001B[33m3-point\u001B[0m\u001B[33m'\u001B[0m \u001B[95mand\u001B[0m use_one_sided[i]:                                                    \u001B[30m│\u001B[0m\n",
       "\u001B[30m│\u001B[0m                                                                                                                 \u001B[30m│\u001B[0m\n",
       "\u001B[30m│\u001B[0m \u001B[33mC:\\App\\ReactProject\\domains\\TimeCast\\server\\venv\\lib\\site-packages\\scipy\\optimize\\_numdiff.py\u001B[0m:\u001B[94m470\u001B[0m in            \u001B[30m│\u001B[0m\n",
       "\u001B[30m│\u001B[0m \u001B[92mfun_wrapped\u001B[0m                                                                                                     \u001B[30m│\u001B[0m\n",
       "\u001B[30m│\u001B[0m                                                                                                                 \u001B[30m│\u001B[0m\n",
       "\u001B[30m│\u001B[0m   \u001B[2m469 \u001B[0m                                                                                                          \u001B[30m│\u001B[0m\n",
       "\u001B[30m│\u001B[0m \u001B[31m❱ \u001B[0m470         f = np.atleast_1d(fun(x, *args, **kwargs))                                                        \u001B[30m│\u001B[0m\n",
       "\u001B[30m│\u001B[0m   \u001B[2m471 \u001B[0m        \u001B[94mif\u001B[0m f.ndim > \u001B[94m1\u001B[0m:                                                                                    \u001B[30m│\u001B[0m\n",
       "\u001B[30m│\u001B[0m                                                                                                                 \u001B[30m│\u001B[0m\n",
       "\u001B[30m│\u001B[0m \u001B[33mC:\\App\\ReactProject\\domains\\TimeCast\\server\\venv\\lib\\site-packages\\scipy\\optimize\\_differentiable_functions.py\u001B[0m: \u001B[30m│\u001B[0m\n",
       "\u001B[30m│\u001B[0m \u001B[94m145\u001B[0m in \u001B[92mfun_wrapped\u001B[0m                                                                                              \u001B[30m│\u001B[0m\n",
       "\u001B[30m│\u001B[0m                                                                                                                 \u001B[30m│\u001B[0m\n",
       "\u001B[30m│\u001B[0m   \u001B[2m144 \u001B[0m            \u001B[2m# fun(self.x) will change self.x, with the two no longer linked.\u001B[0m                              \u001B[30m│\u001B[0m\n",
       "\u001B[30m│\u001B[0m \u001B[31m❱ \u001B[0m145             fx = fun(np.copy(x), *args)                                                                   \u001B[30m│\u001B[0m\n",
       "\u001B[30m│\u001B[0m   \u001B[2m146 \u001B[0m            \u001B[2m# Make sure the function returns a true scalar\u001B[0m                                                \u001B[30m│\u001B[0m\n",
       "\u001B[30m│\u001B[0m                                                                                                                 \u001B[30m│\u001B[0m\n",
       "\u001B[30m│\u001B[0m \u001B[33mC:\\App\\ReactProject\\domains\\TimeCast\\server\\venv\\lib\\site-packages\\statsmodels\\base\\model.py\u001B[0m:\u001B[94m534\u001B[0m in \u001B[92mf\u001B[0m           \u001B[30m│\u001B[0m\n",
       "\u001B[30m│\u001B[0m                                                                                                                 \u001B[30m│\u001B[0m\n",
       "\u001B[30m│\u001B[0m   \u001B[2m 533 \u001B[0m        \u001B[94mdef\u001B[0m \u001B[92mf\u001B[0m(params, *args):                                                                            \u001B[30m│\u001B[0m\n",
       "\u001B[30m│\u001B[0m \u001B[31m❱ \u001B[0m 534             \u001B[94mreturn\u001B[0m -\u001B[96mself\u001B[0m.loglike(params, *args) / nobs                                                   \u001B[30m│\u001B[0m\n",
       "\u001B[30m│\u001B[0m   \u001B[2m 535 \u001B[0m                                                                                                         \u001B[30m│\u001B[0m\n",
       "\u001B[30m│\u001B[0m                                                                                                                 \u001B[30m│\u001B[0m\n",
       "\u001B[30m│\u001B[0m \u001B[33mC:\\App\\ReactProject\\domains\\TimeCast\\server\\venv\\lib\\site-packages\\statsmodels\\tsa\\statespace\\mlemodel.py\u001B[0m:\u001B[94m934\u001B[0m   \u001B[30m│\u001B[0m\n",
       "\u001B[30m│\u001B[0m in \u001B[92mloglike\u001B[0m                                                                                                      \u001B[30m│\u001B[0m\n",
       "\u001B[30m│\u001B[0m                                                                                                                 \u001B[30m│\u001B[0m\n",
       "\u001B[30m│\u001B[0m   \u001B[2m 933 \u001B[0m                                    includes_fixed=includes_fixed)                                       \u001B[30m│\u001B[0m\n",
       "\u001B[30m│\u001B[0m \u001B[31m❱ \u001B[0m 934         \u001B[96mself\u001B[0m.update(params, transformed=\u001B[94mTrue\u001B[0m, includes_fixed=\u001B[94mTrue\u001B[0m,                                       \u001B[30m│\u001B[0m\n",
       "\u001B[30m│\u001B[0m   \u001B[2m 935 \u001B[0m                    complex_step=complex_step)                                                           \u001B[30m│\u001B[0m\n",
       "\u001B[30m│\u001B[0m                                                                                                                 \u001B[30m│\u001B[0m\n",
       "\u001B[30m│\u001B[0m \u001B[33mC:\\App\\ReactProject\\domains\\TimeCast\\server\\venv\\lib\\site-packages\\statsmodels\\tsa\\statespace\\sarimax.py\u001B[0m:\u001B[94m1658\u001B[0m   \u001B[30m│\u001B[0m\n",
       "\u001B[30m│\u001B[0m in \u001B[92mupdate\u001B[0m                                                                                                       \u001B[30m│\u001B[0m\n",
       "\u001B[30m│\u001B[0m                                                                                                                 \u001B[30m│\u001B[0m\n",
       "\u001B[30m│\u001B[0m   \u001B[2m1657 \u001B[0m            \u001B[94mif\u001B[0m \u001B[95mnot\u001B[0m \u001B[96mself\u001B[0m.hamilton_representation:                                                         \u001B[30m│\u001B[0m\n",
       "\u001B[30m│\u001B[0m \u001B[31m❱ \u001B[0m1658                 \u001B[96mself\u001B[0m.ssm[\u001B[33m'\u001B[0m\u001B[33mstate_intercept\u001B[0m\u001B[33m'\u001B[0m, \u001B[96mself\u001B[0m._k_states_diff, :] = data                               \u001B[30m│\u001B[0m\n",
       "\u001B[30m│\u001B[0m   \u001B[2m1659 \u001B[0m            \u001B[94melse\u001B[0m:                                                                                        \u001B[30m│\u001B[0m\n",
       "\u001B[30m│\u001B[0m                                                                                                                 \u001B[30m│\u001B[0m\n",
       "\u001B[30m│\u001B[0m \u001B[33mC:\\App\\ReactProject\\domains\\TimeCast\\server\\venv\\lib\\site-packages\\statsmodels\\tsa\\statespace\\representation.py\u001B[0m \u001B[30m│\u001B[0m\n",
       "\u001B[30m│\u001B[0m :\u001B[94m456\u001B[0m in \u001B[92m__setitem__\u001B[0m                                                                                             \u001B[30m│\u001B[0m\n",
       "\u001B[30m│\u001B[0m                                                                                                                 \u001B[30m│\u001B[0m\n",
       "\u001B[30m│\u001B[0m   \u001B[2m 455 \u001B[0m            \u001B[2m# Set the new value\u001B[0m                                                                          \u001B[30m│\u001B[0m\n",
       "\u001B[30m│\u001B[0m \u001B[31m❱ \u001B[0m 456             matrix[slice_] = value                                                                       \u001B[30m│\u001B[0m\n",
       "\u001B[30m│\u001B[0m   \u001B[2m 457 \u001B[0m            \u001B[96msetattr\u001B[0m(\u001B[96mself\u001B[0m, name, matrix)                                                                  \u001B[30m│\u001B[0m\n",
       "\u001B[30m╰─────────────────────────────────────────────────────────────────────────────────────────────────────────────────╯\u001B[0m\n",
       "\u001B[1;91mKeyboardInterrupt\u001B[0m\n"
      ],
      "text/html": [
       "<pre style=\"white-space:pre;overflow-x:auto;line-height:normal;font-family:Menlo,'DejaVu Sans Mono',consolas,'Courier New',monospace\"><span style=\"color: #000000; text-decoration-color: #000000\">╭─────────────────────────────────────── </span><span style=\"color: #800000; text-decoration-color: #800000; font-weight: bold\">Traceback </span><span style=\"color: #bf7f7f; text-decoration-color: #bf7f7f; font-weight: bold\">(most recent call last)</span><span style=\"color: #000000; text-decoration-color: #000000\"> ───────────────────────────────────────╮</span>\n",
       "<span style=\"color: #000000; text-decoration-color: #000000\">│</span> in <span style=\"color: #00ff00; text-decoration-color: #00ff00\">&lt;module&gt;</span>:<span style=\"color: #0000ff; text-decoration-color: #0000ff\">1</span>                                                                                                   <span style=\"color: #000000; text-decoration-color: #000000\">│</span>\n",
       "<span style=\"color: #000000; text-decoration-color: #000000\">│</span>                                                                                                                 <span style=\"color: #000000; text-decoration-color: #000000\">│</span>\n",
       "<span style=\"color: #000000; text-decoration-color: #000000\">│</span> <span style=\"color: #800000; text-decoration-color: #800000\">❱ </span> 1 classic_graduate_pipeline = validate_with_pydantic(EntryClassicGraduatePipeline)(Classic                   <span style=\"color: #000000; text-decoration-color: #000000\">│</span>\n",
       "<span style=\"color: #000000; text-decoration-color: #000000\">│</span>   <span style=\"color: #7f7f7f; text-decoration-color: #7f7f7f\"> 2 </span>    entry = {                                                                                              <span style=\"color: #000000; text-decoration-color: #000000\">│</span>\n",
       "<span style=\"color: #000000; text-decoration-color: #000000\">│</span>                                                                                                                 <span style=\"color: #000000; text-decoration-color: #000000\">│</span>\n",
       "<span style=\"color: #000000; text-decoration-color: #000000\">│</span> <span style=\"color: #808000; text-decoration-color: #808000\">C:\\App\\ReactProject\\domains\\TimeCast\\server\\src\\library\\pydantic_models.py</span>:<span style=\"color: #0000ff; text-decoration-color: #0000ff\">32</span> in <span style=\"color: #00ff00; text-decoration-color: #00ff00\">wrapper</span>                        <span style=\"color: #000000; text-decoration-color: #000000\">│</span>\n",
       "<span style=\"color: #000000; text-decoration-color: #000000\">│</span>                                                                                                                 <span style=\"color: #000000; text-decoration-color: #000000\">│</span>\n",
       "<span style=\"color: #000000; text-decoration-color: #000000\">│</span>   <span style=\"color: #7f7f7f; text-decoration-color: #7f7f7f\"> 31 </span>                kwargs[<span style=\"color: #808000; text-decoration-color: #808000\">\"entry\"</span>] = validated_data                                                          <span style=\"color: #000000; text-decoration-color: #000000\">│</span>\n",
       "<span style=\"color: #000000; text-decoration-color: #000000\">│</span> <span style=\"color: #800000; text-decoration-color: #800000\">❱ </span> 32                 <span style=\"color: #0000ff; text-decoration-color: #0000ff\">return</span> func(*args, **kwargs)                                                              <span style=\"color: #000000; text-decoration-color: #000000\">│</span>\n",
       "<span style=\"color: #000000; text-decoration-color: #000000\">│</span>   <span style=\"color: #7f7f7f; text-decoration-color: #7f7f7f\"> 33 </span>            <span style=\"color: #0000ff; text-decoration-color: #0000ff\">except</span> ValidationError <span style=\"color: #0000ff; text-decoration-color: #0000ff\">as</span> ve:                                                                 <span style=\"color: #000000; text-decoration-color: #000000\">│</span>\n",
       "<span style=\"color: #000000; text-decoration-color: #000000\">│</span> in <span style=\"color: #00ff00; text-decoration-color: #00ff00\">__init__</span>:<span style=\"color: #0000ff; text-decoration-color: #0000ff\">4</span>                                                                                                   <span style=\"color: #000000; text-decoration-color: #000000\">│</span>\n",
       "<span style=\"color: #000000; text-decoration-color: #000000\">│</span>                                                                                                                 <span style=\"color: #000000; text-decoration-color: #000000\">│</span>\n",
       "<span style=\"color: #000000; text-decoration-color: #000000\">│</span> <span style=\"color: #808000; text-decoration-color: #808000\">C:\\App\\ReactProject\\domains\\TimeCast\\server\\src\\library\\ClassicGraduatePipeline.py</span>:<span style=\"color: #0000ff; text-decoration-color: #0000ff\">57</span> in <span style=\"color: #00ff00; text-decoration-color: #00ff00\">__post_init__</span>          <span style=\"color: #000000; text-decoration-color: #000000\">│</span>\n",
       "<span style=\"color: #000000; text-decoration-color: #000000\">│</span>                                                                                                                 <span style=\"color: #000000; text-decoration-color: #000000\">│</span>\n",
       "<span style=\"color: #000000; text-decoration-color: #000000\">│</span>   <span style=\"color: #7f7f7f; text-decoration-color: #7f7f7f\">56 </span>                                                                                                           <span style=\"color: #000000; text-decoration-color: #000000\">│</span>\n",
       "<span style=\"color: #000000; text-decoration-color: #000000\">│</span> <span style=\"color: #800000; text-decoration-color: #800000\">❱ </span>57         <span style=\"color: #00ffff; text-decoration-color: #00ffff\">self</span>.classic_graduate.graduate()                                                                   <span style=\"color: #000000; text-decoration-color: #000000\">│</span>\n",
       "<span style=\"color: #000000; text-decoration-color: #000000\">│</span>   <span style=\"color: #7f7f7f; text-decoration-color: #7f7f7f\">58 </span>                                                                                                           <span style=\"color: #000000; text-decoration-color: #000000\">│</span>\n",
       "<span style=\"color: #000000; text-decoration-color: #000000\">│</span>                                                                                                                 <span style=\"color: #000000; text-decoration-color: #000000\">│</span>\n",
       "<span style=\"color: #000000; text-decoration-color: #000000\">│</span> <span style=\"color: #808000; text-decoration-color: #808000\">C:\\App\\ReactProject\\domains\\TimeCast\\server\\src\\library\\ClassicGraduate.py</span>:<span style=\"color: #0000ff; text-decoration-color: #0000ff\">76</span> in <span style=\"color: #00ff00; text-decoration-color: #00ff00\">graduate</span>                       <span style=\"color: #000000; text-decoration-color: #000000\">│</span>\n",
       "<span style=\"color: #000000; text-decoration-color: #000000\">│</span>                                                                                                                 <span style=\"color: #000000; text-decoration-color: #000000\">│</span>\n",
       "<span style=\"color: #000000; text-decoration-color: #000000\">│</span>   <span style=\"color: #7f7f7f; text-decoration-color: #7f7f7f\"> 75 </span>                                                                                                          <span style=\"color: #000000; text-decoration-color: #000000\">│</span>\n",
       "<span style=\"color: #000000; text-decoration-color: #000000\">│</span> <span style=\"color: #800000; text-decoration-color: #800000\">❱ </span> 76             best_models, best_params, best_rmses, best_r2s = <span style=\"color: #00ffff; text-decoration-color: #00ffff\">self</span>.train_model(series, ex                  <span style=\"color: #000000; text-decoration-color: #000000\">│</span>\n",
       "<span style=\"color: #000000; text-decoration-color: #000000\">│</span>   <span style=\"color: #7f7f7f; text-decoration-color: #7f7f7f\"> 77 </span>                                                                                                          <span style=\"color: #000000; text-decoration-color: #000000\">│</span>\n",
       "<span style=\"color: #000000; text-decoration-color: #000000\">│</span>                                                                                                                 <span style=\"color: #000000; text-decoration-color: #000000\">│</span>\n",
       "<span style=\"color: #000000; text-decoration-color: #000000\">│</span> <span style=\"color: #808000; text-decoration-color: #808000\">C:\\App\\ReactProject\\domains\\TimeCast\\server\\src\\library\\ClassicGraduate.py</span>:<span style=\"color: #0000ff; text-decoration-color: #0000ff\">146</span> in <span style=\"color: #00ff00; text-decoration-color: #00ff00\">train_model</span>                   <span style=\"color: #000000; text-decoration-color: #000000\">│</span>\n",
       "<span style=\"color: #000000; text-decoration-color: #000000\">│</span>                                                                                                                 <span style=\"color: #000000; text-decoration-color: #000000\">│</span>\n",
       "<span style=\"color: #000000; text-decoration-color: #000000\">│</span>   <span style=\"color: #7f7f7f; text-decoration-color: #7f7f7f\">145 </span>                        <span style=\"color: #0000ff; text-decoration-color: #0000ff\">try</span>:                                                                              <span style=\"color: #000000; text-decoration-color: #000000\">│</span>\n",
       "<span style=\"color: #000000; text-decoration-color: #000000\">│</span> <span style=\"color: #800000; text-decoration-color: #800000\">❱ </span>146                             rmse, r2, pred, tss = <span style=\"color: #00ffff; text-decoration-color: #00ffff\">self</span>.calc_optimum(train, test, exogeno                  <span style=\"color: #000000; text-decoration-color: #000000\">│</span>\n",
       "<span style=\"color: #000000; text-decoration-color: #000000\">│</span>   <span style=\"color: #7f7f7f; text-decoration-color: #7f7f7f\">147 </span>                                                                    item_id)                              <span style=\"color: #000000; text-decoration-color: #000000\">│</span>\n",
       "<span style=\"color: #000000; text-decoration-color: #000000\">│</span>                                                                                                                 <span style=\"color: #000000; text-decoration-color: #000000\">│</span>\n",
       "<span style=\"color: #000000; text-decoration-color: #000000\">│</span> <span style=\"color: #808000; text-decoration-color: #808000\">C:\\App\\ReactProject\\domains\\TimeCast\\server\\src\\library\\ClassicGraduate.py</span>:<span style=\"color: #0000ff; text-decoration-color: #0000ff\">228</span> in <span style=\"color: #00ff00; text-decoration-color: #00ff00\">calc_optimum</span>                  <span style=\"color: #000000; text-decoration-color: #000000\">│</span>\n",
       "<span style=\"color: #000000; text-decoration-color: #000000\">│</span>                                                                                                                 <span style=\"color: #000000; text-decoration-color: #000000\">│</span>\n",
       "<span style=\"color: #000000; text-decoration-color: #000000\">│</span>   <span style=\"color: #7f7f7f; text-decoration-color: #7f7f7f\">227 </span>        tss = ClassicModel.create_model(model, train, test, exogenous)                                    <span style=\"color: #000000; text-decoration-color: #000000\">│</span>\n",
       "<span style=\"color: #000000; text-decoration-color: #000000\">│</span> <span style=\"color: #800000; text-decoration-color: #800000\">❱ </span>228         tss.fit(*param)                                                                                   <span style=\"color: #000000; text-decoration-color: #000000\">│</span>\n",
       "<span style=\"color: #000000; text-decoration-color: #000000\">│</span>   <span style=\"color: #7f7f7f; text-decoration-color: #7f7f7f\">229 </span>        pred = tss.pred()                                                                                 <span style=\"color: #000000; text-decoration-color: #000000\">│</span>\n",
       "<span style=\"color: #000000; text-decoration-color: #000000\">│</span>                                                                                                                 <span style=\"color: #000000; text-decoration-color: #000000\">│</span>\n",
       "<span style=\"color: #000000; text-decoration-color: #000000\">│</span> <span style=\"color: #808000; text-decoration-color: #808000\">C:\\App\\ReactProject\\domains\\TimeCast\\server\\src\\library\\ClassicModel.py</span>:<span style=\"color: #0000ff; text-decoration-color: #0000ff\">163</span> in <span style=\"color: #00ff00; text-decoration-color: #00ff00\">fit</span>                              <span style=\"color: #000000; text-decoration-color: #000000\">│</span>\n",
       "<span style=\"color: #000000; text-decoration-color: #000000\">│</span>                                                                                                                 <span style=\"color: #000000; text-decoration-color: #000000\">│</span>\n",
       "<span style=\"color: #000000; text-decoration-color: #000000\">│</span>   <span style=\"color: #7f7f7f; text-decoration-color: #7f7f7f\">162 </span>        <span style=\"color: #00ffff; text-decoration-color: #00ffff\">self</span>.model = ARIMA(order=(p, <span style=\"color: #0000ff; text-decoration-color: #0000ff\">0</span>, q))                                                               <span style=\"color: #000000; text-decoration-color: #000000\">│</span>\n",
       "<span style=\"color: #000000; text-decoration-color: #000000\">│</span> <span style=\"color: #800000; text-decoration-color: #800000\">❱ </span>163         <span style=\"color: #00ffff; text-decoration-color: #00ffff\">self</span>.model.fit(y=<span style=\"color: #00ffff; text-decoration-color: #00ffff\">self</span>.train)  <span style=\"color: #7f7f7f; text-decoration-color: #7f7f7f\"># X=self.exogenous.loc[self.train.index].fillna(0)</span>                  <span style=\"color: #000000; text-decoration-color: #000000\">│</span>\n",
       "<span style=\"color: #000000; text-decoration-color: #000000\">│</span>   <span style=\"color: #7f7f7f; text-decoration-color: #7f7f7f\">164 </span>                                                                                                          <span style=\"color: #000000; text-decoration-color: #000000\">│</span>\n",
       "<span style=\"color: #000000; text-decoration-color: #000000\">│</span>                                                                                                                 <span style=\"color: #000000; text-decoration-color: #000000\">│</span>\n",
       "<span style=\"color: #000000; text-decoration-color: #000000\">│</span> <span style=\"color: #808000; text-decoration-color: #808000\">C:\\App\\ReactProject\\domains\\TimeCast\\server\\venv\\lib\\site-packages\\sktime\\forecasting\\base\\_base.py</span>:<span style=\"color: #0000ff; text-decoration-color: #0000ff\">395</span> in <span style=\"color: #00ff00; text-decoration-color: #00ff00\">fit</span>  <span style=\"color: #000000; text-decoration-color: #000000\">│</span>\n",
       "<span style=\"color: #000000; text-decoration-color: #000000\">│</span>                                                                                                                 <span style=\"color: #000000; text-decoration-color: #000000\">│</span>\n",
       "<span style=\"color: #000000; text-decoration-color: #000000\">│</span>   <span style=\"color: #7f7f7f; text-decoration-color: #7f7f7f\"> 394 </span>        <span style=\"color: #0000ff; text-decoration-color: #0000ff\">if</span> <span style=\"color: #ff00ff; text-decoration-color: #ff00ff\">not</span> vectorization_needed:                                                                     <span style=\"color: #000000; text-decoration-color: #000000\">│</span>\n",
       "<span style=\"color: #000000; text-decoration-color: #000000\">│</span> <span style=\"color: #800000; text-decoration-color: #800000\">❱ </span> 395             <span style=\"color: #00ffff; text-decoration-color: #00ffff\">self</span>._fit(y=y_inner, X=X_inner, fh=fh)                                                       <span style=\"color: #000000; text-decoration-color: #000000\">│</span>\n",
       "<span style=\"color: #000000; text-decoration-color: #000000\">│</span>   <span style=\"color: #7f7f7f; text-decoration-color: #7f7f7f\"> 396 </span>        <span style=\"color: #0000ff; text-decoration-color: #0000ff\">else</span>:                                                                                            <span style=\"color: #000000; text-decoration-color: #000000\">│</span>\n",
       "<span style=\"color: #000000; text-decoration-color: #000000\">│</span>                                                                                                                 <span style=\"color: #000000; text-decoration-color: #000000\">│</span>\n",
       "<span style=\"color: #000000; text-decoration-color: #000000\">│</span> <span style=\"color: #808000; text-decoration-color: #808000\">C:\\App\\ReactProject\\domains\\TimeCast\\server\\venv\\lib\\site-packages\\sktime\\forecasting\\base\\adapters\\_pmdarima.p</span> <span style=\"color: #000000; text-decoration-color: #000000\">│</span>\n",
       "<span style=\"color: #000000; text-decoration-color: #000000\">│</span> <span style=\"color: #808000; text-decoration-color: #808000\">y</span>:<span style=\"color: #0000ff; text-decoration-color: #0000ff\">55</span> in <span style=\"color: #00ff00; text-decoration-color: #00ff00\">_fit</span>                                                                                                    <span style=\"color: #000000; text-decoration-color: #000000\">│</span>\n",
       "<span style=\"color: #000000; text-decoration-color: #000000\">│</span>                                                                                                                 <span style=\"color: #000000; text-decoration-color: #000000\">│</span>\n",
       "<span style=\"color: #000000; text-decoration-color: #000000\">│</span>   <span style=\"color: #7f7f7f; text-decoration-color: #7f7f7f\"> 54 </span>        <span style=\"color: #00ffff; text-decoration-color: #00ffff\">self</span>._forecaster = <span style=\"color: #00ffff; text-decoration-color: #00ffff\">self</span>._instantiate_model()                                                      <span style=\"color: #000000; text-decoration-color: #000000\">│</span>\n",
       "<span style=\"color: #000000; text-decoration-color: #000000\">│</span> <span style=\"color: #800000; text-decoration-color: #800000\">❱ </span> 55         <span style=\"color: #00ffff; text-decoration-color: #00ffff\">self</span>._forecaster.fit(y, X=X)                                                                      <span style=\"color: #000000; text-decoration-color: #000000\">│</span>\n",
       "<span style=\"color: #000000; text-decoration-color: #000000\">│</span>   <span style=\"color: #7f7f7f; text-decoration-color: #7f7f7f\"> 56 </span>        <span style=\"color: #0000ff; text-decoration-color: #0000ff\">return</span> <span style=\"color: #00ffff; text-decoration-color: #00ffff\">self</span>                                                                                       <span style=\"color: #000000; text-decoration-color: #000000\">│</span>\n",
       "<span style=\"color: #000000; text-decoration-color: #000000\">│</span>                                                                                                                 <span style=\"color: #000000; text-decoration-color: #000000\">│</span>\n",
       "<span style=\"color: #000000; text-decoration-color: #000000\">│</span> <span style=\"color: #808000; text-decoration-color: #808000\">C:\\App\\ReactProject\\domains\\TimeCast\\server\\venv\\lib\\site-packages\\pmdarima\\arima\\arima.py</span>:<span style=\"color: #0000ff; text-decoration-color: #0000ff\">603</span> in <span style=\"color: #00ff00; text-decoration-color: #00ff00\">fit</span>           <span style=\"color: #000000; text-decoration-color: #000000\">│</span>\n",
       "<span style=\"color: #000000; text-decoration-color: #000000\">│</span>                                                                                                                 <span style=\"color: #000000; text-decoration-color: #000000\">│</span>\n",
       "<span style=\"color: #000000; text-decoration-color: #000000\">│</span>   <span style=\"color: #7f7f7f; text-decoration-color: #7f7f7f\"> 602 </span>        <span style=\"color: #7f7f7f; text-decoration-color: #7f7f7f\"># Internal call</span>                                                                                  <span style=\"color: #000000; text-decoration-color: #000000\">│</span>\n",
       "<span style=\"color: #000000; text-decoration-color: #000000\">│</span> <span style=\"color: #800000; text-decoration-color: #800000\">❱ </span> 603         <span style=\"color: #00ffff; text-decoration-color: #00ffff\">self</span>._fit(y, X, **fit_args)                                                                      <span style=\"color: #000000; text-decoration-color: #000000\">│</span>\n",
       "<span style=\"color: #000000; text-decoration-color: #000000\">│</span>   <span style=\"color: #7f7f7f; text-decoration-color: #7f7f7f\"> 604 </span>                                                                                                         <span style=\"color: #000000; text-decoration-color: #000000\">│</span>\n",
       "<span style=\"color: #000000; text-decoration-color: #000000\">│</span>                                                                                                                 <span style=\"color: #000000; text-decoration-color: #000000\">│</span>\n",
       "<span style=\"color: #000000; text-decoration-color: #000000\">│</span> <span style=\"color: #808000; text-decoration-color: #808000\">C:\\App\\ReactProject\\domains\\TimeCast\\server\\venv\\lib\\site-packages\\pmdarima\\arima\\arima.py</span>:<span style=\"color: #0000ff; text-decoration-color: #0000ff\">526</span> in <span style=\"color: #00ff00; text-decoration-color: #00ff00\">_fit</span>          <span style=\"color: #000000; text-decoration-color: #000000\">│</span>\n",
       "<span style=\"color: #000000; text-decoration-color: #000000\">│</span>                                                                                                                 <span style=\"color: #000000; text-decoration-color: #000000\">│</span>\n",
       "<span style=\"color: #000000; text-decoration-color: #000000\">│</span>   <span style=\"color: #7f7f7f; text-decoration-color: #7f7f7f\"> 525 </span>        <span style=\"color: #0000ff; text-decoration-color: #0000ff\">else</span>:                                                                                            <span style=\"color: #000000; text-decoration-color: #000000\">│</span>\n",
       "<span style=\"color: #000000; text-decoration-color: #000000\">│</span> <span style=\"color: #800000; text-decoration-color: #800000\">❱ </span> 526             fit, <span style=\"color: #00ffff; text-decoration-color: #00ffff\">self</span>.arima_res_ = _fit_wrapper()                                                        <span style=\"color: #000000; text-decoration-color: #000000\">│</span>\n",
       "<span style=\"color: #000000; text-decoration-color: #000000\">│</span>   <span style=\"color: #7f7f7f; text-decoration-color: #7f7f7f\"> 527 </span>                                                                                                         <span style=\"color: #000000; text-decoration-color: #000000\">│</span>\n",
       "<span style=\"color: #000000; text-decoration-color: #000000\">│</span>                                                                                                                 <span style=\"color: #000000; text-decoration-color: #000000\">│</span>\n",
       "<span style=\"color: #000000; text-decoration-color: #000000\">│</span> <span style=\"color: #808000; text-decoration-color: #808000\">C:\\App\\ReactProject\\domains\\TimeCast\\server\\venv\\lib\\site-packages\\pmdarima\\arima\\arima.py</span>:<span style=\"color: #0000ff; text-decoration-color: #0000ff\">510</span> in <span style=\"color: #00ff00; text-decoration-color: #00ff00\">_fit_wrapper</span>  <span style=\"color: #000000; text-decoration-color: #000000\">│</span>\n",
       "<span style=\"color: #000000; text-decoration-color: #000000\">│</span>                                                                                                                 <span style=\"color: #000000; text-decoration-color: #000000\">│</span>\n",
       "<span style=\"color: #000000; text-decoration-color: #000000\">│</span>   <span style=\"color: #7f7f7f; text-decoration-color: #7f7f7f\"> 509 </span>            disp = fit_args.pop(<span style=\"color: #808000; text-decoration-color: #808000\">\"disp\"</span>, <span style=\"color: #0000ff; text-decoration-color: #0000ff\">0</span>)                                                               <span style=\"color: #000000; text-decoration-color: #000000\">│</span>\n",
       "<span style=\"color: #000000; text-decoration-color: #000000\">│</span> <span style=\"color: #800000; text-decoration-color: #800000\">❱ </span> 510             fitted = arima.fit(                                                                          <span style=\"color: #000000; text-decoration-color: #000000\">│</span>\n",
       "<span style=\"color: #000000; text-decoration-color: #000000\">│</span>   <span style=\"color: #7f7f7f; text-decoration-color: #7f7f7f\"> 511 </span>                start_params=start_params,                                                               <span style=\"color: #000000; text-decoration-color: #000000\">│</span>\n",
       "<span style=\"color: #000000; text-decoration-color: #000000\">│</span>                                                                                                                 <span style=\"color: #000000; text-decoration-color: #000000\">│</span>\n",
       "<span style=\"color: #000000; text-decoration-color: #000000\">│</span> <span style=\"color: #808000; text-decoration-color: #808000\">C:\\App\\ReactProject\\domains\\TimeCast\\server\\venv\\lib\\site-packages\\statsmodels\\tsa\\statespace\\mlemodel.py</span>:<span style=\"color: #0000ff; text-decoration-color: #0000ff\">705</span>   <span style=\"color: #000000; text-decoration-color: #000000\">│</span>\n",
       "<span style=\"color: #000000; text-decoration-color: #000000\">│</span> in <span style=\"color: #00ff00; text-decoration-color: #00ff00\">fit</span>                                                                                                          <span style=\"color: #000000; text-decoration-color: #000000\">│</span>\n",
       "<span style=\"color: #000000; text-decoration-color: #000000\">│</span>                                                                                                                 <span style=\"color: #000000; text-decoration-color: #000000\">│</span>\n",
       "<span style=\"color: #000000; text-decoration-color: #000000\">│</span>   <span style=\"color: #7f7f7f; text-decoration-color: #7f7f7f\"> 704 </span>            fargs = (flags,)                                                                             <span style=\"color: #000000; text-decoration-color: #000000\">│</span>\n",
       "<span style=\"color: #000000; text-decoration-color: #000000\">│</span> <span style=\"color: #800000; text-decoration-color: #800000\">❱ </span> 705             mlefit = <span style=\"color: #00ffff; text-decoration-color: #00ffff\">super</span>().fit(start_params, method=method,                                            <span style=\"color: #000000; text-decoration-color: #000000\">│</span>\n",
       "<span style=\"color: #000000; text-decoration-color: #000000\">│</span>   <span style=\"color: #7f7f7f; text-decoration-color: #7f7f7f\"> 706 </span>                                 fargs=fargs,                                                            <span style=\"color: #000000; text-decoration-color: #000000\">│</span>\n",
       "<span style=\"color: #000000; text-decoration-color: #000000\">│</span>                                                                                                                 <span style=\"color: #000000; text-decoration-color: #000000\">│</span>\n",
       "<span style=\"color: #000000; text-decoration-color: #000000\">│</span> <span style=\"color: #808000; text-decoration-color: #808000\">C:\\App\\ReactProject\\domains\\TimeCast\\server\\venv\\lib\\site-packages\\statsmodels\\base\\model.py</span>:<span style=\"color: #0000ff; text-decoration-color: #0000ff\">566</span> in <span style=\"color: #00ff00; text-decoration-color: #00ff00\">fit</span>         <span style=\"color: #000000; text-decoration-color: #000000\">│</span>\n",
       "<span style=\"color: #000000; text-decoration-color: #000000\">│</span>                                                                                                                 <span style=\"color: #000000; text-decoration-color: #000000\">│</span>\n",
       "<span style=\"color: #000000; text-decoration-color: #000000\">│</span>   <span style=\"color: #7f7f7f; text-decoration-color: #7f7f7f\"> 565 </span>        optimizer = Optimizer()                                                                          <span style=\"color: #000000; text-decoration-color: #000000\">│</span>\n",
       "<span style=\"color: #000000; text-decoration-color: #000000\">│</span> <span style=\"color: #800000; text-decoration-color: #800000\">❱ </span> 566         xopt, retvals, optim_settings = optimizer._fit(f, score, start_params,                           <span style=\"color: #000000; text-decoration-color: #000000\">│</span>\n",
       "<span style=\"color: #000000; text-decoration-color: #000000\">│</span>   <span style=\"color: #7f7f7f; text-decoration-color: #7f7f7f\"> 567 </span>                                                       fargs, kwargs,                                    <span style=\"color: #000000; text-decoration-color: #000000\">│</span>\n",
       "<span style=\"color: #000000; text-decoration-color: #000000\">│</span>                                                                                                                 <span style=\"color: #000000; text-decoration-color: #000000\">│</span>\n",
       "<span style=\"color: #000000; text-decoration-color: #000000\">│</span> <span style=\"color: #808000; text-decoration-color: #808000\">C:\\App\\ReactProject\\domains\\TimeCast\\server\\venv\\lib\\site-packages\\statsmodels\\base\\optimizer.py</span>:<span style=\"color: #0000ff; text-decoration-color: #0000ff\">243</span> in <span style=\"color: #00ff00; text-decoration-color: #00ff00\">_fit</span>    <span style=\"color: #000000; text-decoration-color: #000000\">│</span>\n",
       "<span style=\"color: #000000; text-decoration-color: #000000\">│</span>                                                                                                                 <span style=\"color: #000000; text-decoration-color: #000000\">│</span>\n",
       "<span style=\"color: #000000; text-decoration-color: #000000\">│</span>   <span style=\"color: #7f7f7f; text-decoration-color: #7f7f7f\"> 242 </span>        func = fit_funcs[method]                                                                         <span style=\"color: #000000; text-decoration-color: #000000\">│</span>\n",
       "<span style=\"color: #000000; text-decoration-color: #000000\">│</span> <span style=\"color: #800000; text-decoration-color: #800000\">❱ </span> 243         xopt, retvals = func(objective, gradient, start_params, fargs, kwargs,                           <span style=\"color: #000000; text-decoration-color: #000000\">│</span>\n",
       "<span style=\"color: #000000; text-decoration-color: #000000\">│</span>   <span style=\"color: #7f7f7f; text-decoration-color: #7f7f7f\"> 244 </span>                             disp=disp, maxiter=maxiter, callback=callback,                              <span style=\"color: #000000; text-decoration-color: #000000\">│</span>\n",
       "<span style=\"color: #000000; text-decoration-color: #000000\">│</span>                                                                                                                 <span style=\"color: #000000; text-decoration-color: #000000\">│</span>\n",
       "<span style=\"color: #000000; text-decoration-color: #000000\">│</span> <span style=\"color: #808000; text-decoration-color: #808000\">C:\\App\\ReactProject\\domains\\TimeCast\\server\\venv\\lib\\site-packages\\statsmodels\\base\\optimizer.py</span>:<span style=\"color: #0000ff; text-decoration-color: #0000ff\">660</span> in         <span style=\"color: #000000; text-decoration-color: #000000\">│</span>\n",
       "<span style=\"color: #000000; text-decoration-color: #000000\">│</span> <span style=\"color: #00ff00; text-decoration-color: #00ff00\">_fit_lbfgs</span>                                                                                                      <span style=\"color: #000000; text-decoration-color: #000000\">│</span>\n",
       "<span style=\"color: #000000; text-decoration-color: #000000\">│</span>                                                                                                                 <span style=\"color: #000000; text-decoration-color: #000000\">│</span>\n",
       "<span style=\"color: #000000; text-decoration-color: #000000\">│</span>   <span style=\"color: #7f7f7f; text-decoration-color: #7f7f7f\"> 659 </span>                                                                                                         <span style=\"color: #000000; text-decoration-color: #000000\">│</span>\n",
       "<span style=\"color: #000000; text-decoration-color: #000000\">│</span> <span style=\"color: #800000; text-decoration-color: #800000\">❱ </span> 660     retvals = optimize.fmin_l_bfgs_b(func, start_params, maxiter=maxiter,                                <span style=\"color: #000000; text-decoration-color: #000000\">│</span>\n",
       "<span style=\"color: #000000; text-decoration-color: #000000\">│</span>   <span style=\"color: #7f7f7f; text-decoration-color: #7f7f7f\"> 661 </span>                                     callback=callback, args=fargs,                                      <span style=\"color: #000000; text-decoration-color: #000000\">│</span>\n",
       "<span style=\"color: #000000; text-decoration-color: #000000\">│</span>                                                                                                                 <span style=\"color: #000000; text-decoration-color: #000000\">│</span>\n",
       "<span style=\"color: #000000; text-decoration-color: #000000\">│</span> <span style=\"color: #808000; text-decoration-color: #808000\">C:\\App\\ReactProject\\domains\\TimeCast\\server\\venv\\lib\\site-packages\\scipy\\optimize\\_lbfgsb_py.py</span>:<span style=\"color: #0000ff; text-decoration-color: #0000ff\">237</span> in          <span style=\"color: #000000; text-decoration-color: #000000\">│</span>\n",
       "<span style=\"color: #000000; text-decoration-color: #000000\">│</span> <span style=\"color: #00ff00; text-decoration-color: #00ff00\">fmin_l_bfgs_b</span>                                                                                                   <span style=\"color: #000000; text-decoration-color: #000000\">│</span>\n",
       "<span style=\"color: #000000; text-decoration-color: #000000\">│</span>                                                                                                                 <span style=\"color: #000000; text-decoration-color: #000000\">│</span>\n",
       "<span style=\"color: #000000; text-decoration-color: #000000\">│</span>   <span style=\"color: #7f7f7f; text-decoration-color: #7f7f7f\">236 </span>                                                                                                          <span style=\"color: #000000; text-decoration-color: #000000\">│</span>\n",
       "<span style=\"color: #000000; text-decoration-color: #000000\">│</span> <span style=\"color: #800000; text-decoration-color: #800000\">❱ </span>237     res = _minimize_lbfgsb(fun, x0, args=args, jac=jac, bounds=bounds,                                    <span style=\"color: #000000; text-decoration-color: #000000\">│</span>\n",
       "<span style=\"color: #000000; text-decoration-color: #000000\">│</span>   <span style=\"color: #7f7f7f; text-decoration-color: #7f7f7f\">238 </span>                           **opts)                                                                        <span style=\"color: #000000; text-decoration-color: #000000\">│</span>\n",
       "<span style=\"color: #000000; text-decoration-color: #000000\">│</span>                                                                                                                 <span style=\"color: #000000; text-decoration-color: #000000\">│</span>\n",
       "<span style=\"color: #000000; text-decoration-color: #000000\">│</span> <span style=\"color: #808000; text-decoration-color: #808000\">C:\\App\\ReactProject\\domains\\TimeCast\\server\\venv\\lib\\site-packages\\scipy\\optimize\\_lbfgsb_py.py</span>:<span style=\"color: #0000ff; text-decoration-color: #0000ff\">407</span> in          <span style=\"color: #000000; text-decoration-color: #000000\">│</span>\n",
       "<span style=\"color: #000000; text-decoration-color: #000000\">│</span> <span style=\"color: #00ff00; text-decoration-color: #00ff00\">_minimize_lbfgsb</span>                                                                                                <span style=\"color: #000000; text-decoration-color: #000000\">│</span>\n",
       "<span style=\"color: #000000; text-decoration-color: #000000\">│</span>                                                                                                                 <span style=\"color: #000000; text-decoration-color: #000000\">│</span>\n",
       "<span style=\"color: #000000; text-decoration-color: #000000\">│</span>   <span style=\"color: #7f7f7f; text-decoration-color: #7f7f7f\">406 </span>            <span style=\"color: #7f7f7f; text-decoration-color: #7f7f7f\"># Overwrite f and g:</span>                                                                          <span style=\"color: #000000; text-decoration-color: #000000\">│</span>\n",
       "<span style=\"color: #000000; text-decoration-color: #000000\">│</span> <span style=\"color: #800000; text-decoration-color: #800000\">❱ </span>407             f, g = func_and_grad(x)                                                                       <span style=\"color: #000000; text-decoration-color: #000000\">│</span>\n",
       "<span style=\"color: #000000; text-decoration-color: #000000\">│</span>   <span style=\"color: #7f7f7f; text-decoration-color: #7f7f7f\">408 </span>        <span style=\"color: #0000ff; text-decoration-color: #0000ff\">elif</span> task_str.startswith(<span style=\"color: #808000; text-decoration-color: #808000\">b'NEW_X'</span>):                                                               <span style=\"color: #000000; text-decoration-color: #000000\">│</span>\n",
       "<span style=\"color: #000000; text-decoration-color: #000000\">│</span>                                                                                                                 <span style=\"color: #000000; text-decoration-color: #000000\">│</span>\n",
       "<span style=\"color: #000000; text-decoration-color: #000000\">│</span> <span style=\"color: #808000; text-decoration-color: #808000\">C:\\App\\ReactProject\\domains\\TimeCast\\server\\venv\\lib\\site-packages\\scipy\\optimize\\_differentiable_functions.py</span>: <span style=\"color: #000000; text-decoration-color: #000000\">│</span>\n",
       "<span style=\"color: #000000; text-decoration-color: #000000\">│</span> <span style=\"color: #0000ff; text-decoration-color: #0000ff\">297</span> in <span style=\"color: #00ff00; text-decoration-color: #00ff00\">fun_and_grad</span>                                                                                             <span style=\"color: #000000; text-decoration-color: #000000\">│</span>\n",
       "<span style=\"color: #000000; text-decoration-color: #000000\">│</span>                                                                                                                 <span style=\"color: #000000; text-decoration-color: #000000\">│</span>\n",
       "<span style=\"color: #000000; text-decoration-color: #000000\">│</span>   <span style=\"color: #7f7f7f; text-decoration-color: #7f7f7f\">296 </span>        <span style=\"color: #00ffff; text-decoration-color: #00ffff\">self</span>._update_fun()                                                                                <span style=\"color: #000000; text-decoration-color: #000000\">│</span>\n",
       "<span style=\"color: #000000; text-decoration-color: #000000\">│</span> <span style=\"color: #800000; text-decoration-color: #800000\">❱ </span>297         <span style=\"color: #00ffff; text-decoration-color: #00ffff\">self</span>._update_grad()                                                                               <span style=\"color: #000000; text-decoration-color: #000000\">│</span>\n",
       "<span style=\"color: #000000; text-decoration-color: #000000\">│</span>   <span style=\"color: #7f7f7f; text-decoration-color: #7f7f7f\">298 </span>        <span style=\"color: #0000ff; text-decoration-color: #0000ff\">return</span> <span style=\"color: #00ffff; text-decoration-color: #00ffff\">self</span>.f, <span style=\"color: #00ffff; text-decoration-color: #00ffff\">self</span>.g                                                                             <span style=\"color: #000000; text-decoration-color: #000000\">│</span>\n",
       "<span style=\"color: #000000; text-decoration-color: #000000\">│</span>                                                                                                                 <span style=\"color: #000000; text-decoration-color: #000000\">│</span>\n",
       "<span style=\"color: #000000; text-decoration-color: #000000\">│</span> <span style=\"color: #808000; text-decoration-color: #808000\">C:\\App\\ReactProject\\domains\\TimeCast\\server\\venv\\lib\\site-packages\\scipy\\optimize\\_differentiable_functions.py</span>: <span style=\"color: #000000; text-decoration-color: #000000\">│</span>\n",
       "<span style=\"color: #000000; text-decoration-color: #000000\">│</span> <span style=\"color: #0000ff; text-decoration-color: #0000ff\">267</span> in <span style=\"color: #00ff00; text-decoration-color: #00ff00\">_update_grad</span>                                                                                             <span style=\"color: #000000; text-decoration-color: #000000\">│</span>\n",
       "<span style=\"color: #000000; text-decoration-color: #000000\">│</span>                                                                                                                 <span style=\"color: #000000; text-decoration-color: #000000\">│</span>\n",
       "<span style=\"color: #000000; text-decoration-color: #000000\">│</span>   <span style=\"color: #7f7f7f; text-decoration-color: #7f7f7f\">266 </span>        <span style=\"color: #0000ff; text-decoration-color: #0000ff\">if</span> <span style=\"color: #ff00ff; text-decoration-color: #ff00ff\">not</span> <span style=\"color: #00ffff; text-decoration-color: #00ffff\">self</span>.g_updated:                                                                            <span style=\"color: #000000; text-decoration-color: #000000\">│</span>\n",
       "<span style=\"color: #000000; text-decoration-color: #000000\">│</span> <span style=\"color: #800000; text-decoration-color: #800000\">❱ </span>267             <span style=\"color: #00ffff; text-decoration-color: #00ffff\">self</span>._update_grad_impl()                                                                      <span style=\"color: #000000; text-decoration-color: #000000\">│</span>\n",
       "<span style=\"color: #000000; text-decoration-color: #000000\">│</span>   <span style=\"color: #7f7f7f; text-decoration-color: #7f7f7f\">268 </span>            <span style=\"color: #00ffff; text-decoration-color: #00ffff\">self</span>.g_updated = <span style=\"color: #0000ff; text-decoration-color: #0000ff\">True</span>                                                                         <span style=\"color: #000000; text-decoration-color: #000000\">│</span>\n",
       "<span style=\"color: #000000; text-decoration-color: #000000\">│</span>                                                                                                                 <span style=\"color: #000000; text-decoration-color: #000000\">│</span>\n",
       "<span style=\"color: #000000; text-decoration-color: #000000\">│</span> <span style=\"color: #808000; text-decoration-color: #808000\">C:\\App\\ReactProject\\domains\\TimeCast\\server\\venv\\lib\\site-packages\\scipy\\optimize\\_differentiable_functions.py</span>: <span style=\"color: #000000; text-decoration-color: #000000\">│</span>\n",
       "<span style=\"color: #000000; text-decoration-color: #000000\">│</span> <span style=\"color: #0000ff; text-decoration-color: #0000ff\">181</span> in <span style=\"color: #00ff00; text-decoration-color: #00ff00\">update_grad</span>                                                                                              <span style=\"color: #000000; text-decoration-color: #000000\">│</span>\n",
       "<span style=\"color: #000000; text-decoration-color: #000000\">│</span>                                                                                                                 <span style=\"color: #000000; text-decoration-color: #000000\">│</span>\n",
       "<span style=\"color: #000000; text-decoration-color: #000000\">│</span>   <span style=\"color: #7f7f7f; text-decoration-color: #7f7f7f\">180 </span>                <span style=\"color: #00ffff; text-decoration-color: #00ffff\">self</span>.ngev += <span style=\"color: #0000ff; text-decoration-color: #0000ff\">1</span>                                                                            <span style=\"color: #000000; text-decoration-color: #000000\">│</span>\n",
       "<span style=\"color: #000000; text-decoration-color: #000000\">│</span> <span style=\"color: #800000; text-decoration-color: #800000\">❱ </span>181                 <span style=\"color: #00ffff; text-decoration-color: #00ffff\">self</span>.g = approx_derivative(fun_wrapped, <span style=\"color: #00ffff; text-decoration-color: #00ffff\">self</span>.x, f0=<span style=\"color: #00ffff; text-decoration-color: #00ffff\">self</span>.f,                                <span style=\"color: #000000; text-decoration-color: #000000\">│</span>\n",
       "<span style=\"color: #000000; text-decoration-color: #000000\">│</span>   <span style=\"color: #7f7f7f; text-decoration-color: #7f7f7f\">182 </span>                                           **finite_diff_options)                                         <span style=\"color: #000000; text-decoration-color: #000000\">│</span>\n",
       "<span style=\"color: #000000; text-decoration-color: #000000\">│</span>                                                                                                                 <span style=\"color: #000000; text-decoration-color: #000000\">│</span>\n",
       "<span style=\"color: #000000; text-decoration-color: #000000\">│</span> <span style=\"color: #808000; text-decoration-color: #808000\">C:\\App\\ReactProject\\domains\\TimeCast\\server\\venv\\lib\\site-packages\\scipy\\optimize\\_numdiff.py</span>:<span style=\"color: #0000ff; text-decoration-color: #0000ff\">519</span> in            <span style=\"color: #000000; text-decoration-color: #000000\">│</span>\n",
       "<span style=\"color: #000000; text-decoration-color: #000000\">│</span> <span style=\"color: #00ff00; text-decoration-color: #00ff00\">approx_derivative</span>                                                                                               <span style=\"color: #000000; text-decoration-color: #000000\">│</span>\n",
       "<span style=\"color: #000000; text-decoration-color: #000000\">│</span>                                                                                                                 <span style=\"color: #000000; text-decoration-color: #000000\">│</span>\n",
       "<span style=\"color: #000000; text-decoration-color: #000000\">│</span>   <span style=\"color: #7f7f7f; text-decoration-color: #7f7f7f\">518 </span>        <span style=\"color: #0000ff; text-decoration-color: #0000ff\">if</span> sparsity <span style=\"color: #ff00ff; text-decoration-color: #ff00ff\">is</span> <span style=\"color: #0000ff; text-decoration-color: #0000ff\">None</span>:                                                                              <span style=\"color: #000000; text-decoration-color: #000000\">│</span>\n",
       "<span style=\"color: #000000; text-decoration-color: #000000\">│</span> <span style=\"color: #800000; text-decoration-color: #800000\">❱ </span>519             <span style=\"color: #0000ff; text-decoration-color: #0000ff\">return</span> _dense_difference(fun_wrapped, x0, f0, h,                                              <span style=\"color: #000000; text-decoration-color: #000000\">│</span>\n",
       "<span style=\"color: #000000; text-decoration-color: #000000\">│</span>   <span style=\"color: #7f7f7f; text-decoration-color: #7f7f7f\">520 </span>                                     use_one_sided, method)                                               <span style=\"color: #000000; text-decoration-color: #000000\">│</span>\n",
       "<span style=\"color: #000000; text-decoration-color: #000000\">│</span>                                                                                                                 <span style=\"color: #000000; text-decoration-color: #000000\">│</span>\n",
       "<span style=\"color: #000000; text-decoration-color: #000000\">│</span> <span style=\"color: #808000; text-decoration-color: #808000\">C:\\App\\ReactProject\\domains\\TimeCast\\server\\venv\\lib\\site-packages\\scipy\\optimize\\_numdiff.py</span>:<span style=\"color: #0000ff; text-decoration-color: #0000ff\">590</span> in            <span style=\"color: #000000; text-decoration-color: #000000\">│</span>\n",
       "<span style=\"color: #000000; text-decoration-color: #000000\">│</span> <span style=\"color: #00ff00; text-decoration-color: #00ff00\">_dense_difference</span>                                                                                               <span style=\"color: #000000; text-decoration-color: #000000\">│</span>\n",
       "<span style=\"color: #000000; text-decoration-color: #000000\">│</span>                                                                                                                 <span style=\"color: #000000; text-decoration-color: #000000\">│</span>\n",
       "<span style=\"color: #000000; text-decoration-color: #000000\">│</span>   <span style=\"color: #7f7f7f; text-decoration-color: #7f7f7f\">589 </span>            dx = x[i] - x0[i]  <span style=\"color: #7f7f7f; text-decoration-color: #7f7f7f\"># Recompute dx as exactly representable number.</span>                            <span style=\"color: #000000; text-decoration-color: #000000\">│</span>\n",
       "<span style=\"color: #000000; text-decoration-color: #000000\">│</span> <span style=\"color: #800000; text-decoration-color: #800000\">❱ </span>590             df = fun(x) - f0                                                                              <span style=\"color: #000000; text-decoration-color: #000000\">│</span>\n",
       "<span style=\"color: #000000; text-decoration-color: #000000\">│</span>   <span style=\"color: #7f7f7f; text-decoration-color: #7f7f7f\">591 </span>        <span style=\"color: #0000ff; text-decoration-color: #0000ff\">elif</span> method == <span style=\"color: #808000; text-decoration-color: #808000\">'3-point'</span> <span style=\"color: #ff00ff; text-decoration-color: #ff00ff\">and</span> use_one_sided[i]:                                                    <span style=\"color: #000000; text-decoration-color: #000000\">│</span>\n",
       "<span style=\"color: #000000; text-decoration-color: #000000\">│</span>                                                                                                                 <span style=\"color: #000000; text-decoration-color: #000000\">│</span>\n",
       "<span style=\"color: #000000; text-decoration-color: #000000\">│</span> <span style=\"color: #808000; text-decoration-color: #808000\">C:\\App\\ReactProject\\domains\\TimeCast\\server\\venv\\lib\\site-packages\\scipy\\optimize\\_numdiff.py</span>:<span style=\"color: #0000ff; text-decoration-color: #0000ff\">470</span> in            <span style=\"color: #000000; text-decoration-color: #000000\">│</span>\n",
       "<span style=\"color: #000000; text-decoration-color: #000000\">│</span> <span style=\"color: #00ff00; text-decoration-color: #00ff00\">fun_wrapped</span>                                                                                                     <span style=\"color: #000000; text-decoration-color: #000000\">│</span>\n",
       "<span style=\"color: #000000; text-decoration-color: #000000\">│</span>                                                                                                                 <span style=\"color: #000000; text-decoration-color: #000000\">│</span>\n",
       "<span style=\"color: #000000; text-decoration-color: #000000\">│</span>   <span style=\"color: #7f7f7f; text-decoration-color: #7f7f7f\">469 </span>                                                                                                          <span style=\"color: #000000; text-decoration-color: #000000\">│</span>\n",
       "<span style=\"color: #000000; text-decoration-color: #000000\">│</span> <span style=\"color: #800000; text-decoration-color: #800000\">❱ </span>470         f = np.atleast_1d(fun(x, *args, **kwargs))                                                        <span style=\"color: #000000; text-decoration-color: #000000\">│</span>\n",
       "<span style=\"color: #000000; text-decoration-color: #000000\">│</span>   <span style=\"color: #7f7f7f; text-decoration-color: #7f7f7f\">471 </span>        <span style=\"color: #0000ff; text-decoration-color: #0000ff\">if</span> f.ndim &gt; <span style=\"color: #0000ff; text-decoration-color: #0000ff\">1</span>:                                                                                    <span style=\"color: #000000; text-decoration-color: #000000\">│</span>\n",
       "<span style=\"color: #000000; text-decoration-color: #000000\">│</span>                                                                                                                 <span style=\"color: #000000; text-decoration-color: #000000\">│</span>\n",
       "<span style=\"color: #000000; text-decoration-color: #000000\">│</span> <span style=\"color: #808000; text-decoration-color: #808000\">C:\\App\\ReactProject\\domains\\TimeCast\\server\\venv\\lib\\site-packages\\scipy\\optimize\\_differentiable_functions.py</span>: <span style=\"color: #000000; text-decoration-color: #000000\">│</span>\n",
       "<span style=\"color: #000000; text-decoration-color: #000000\">│</span> <span style=\"color: #0000ff; text-decoration-color: #0000ff\">145</span> in <span style=\"color: #00ff00; text-decoration-color: #00ff00\">fun_wrapped</span>                                                                                              <span style=\"color: #000000; text-decoration-color: #000000\">│</span>\n",
       "<span style=\"color: #000000; text-decoration-color: #000000\">│</span>                                                                                                                 <span style=\"color: #000000; text-decoration-color: #000000\">│</span>\n",
       "<span style=\"color: #000000; text-decoration-color: #000000\">│</span>   <span style=\"color: #7f7f7f; text-decoration-color: #7f7f7f\">144 </span>            <span style=\"color: #7f7f7f; text-decoration-color: #7f7f7f\"># fun(self.x) will change self.x, with the two no longer linked.</span>                              <span style=\"color: #000000; text-decoration-color: #000000\">│</span>\n",
       "<span style=\"color: #000000; text-decoration-color: #000000\">│</span> <span style=\"color: #800000; text-decoration-color: #800000\">❱ </span>145             fx = fun(np.copy(x), *args)                                                                   <span style=\"color: #000000; text-decoration-color: #000000\">│</span>\n",
       "<span style=\"color: #000000; text-decoration-color: #000000\">│</span>   <span style=\"color: #7f7f7f; text-decoration-color: #7f7f7f\">146 </span>            <span style=\"color: #7f7f7f; text-decoration-color: #7f7f7f\"># Make sure the function returns a true scalar</span>                                                <span style=\"color: #000000; text-decoration-color: #000000\">│</span>\n",
       "<span style=\"color: #000000; text-decoration-color: #000000\">│</span>                                                                                                                 <span style=\"color: #000000; text-decoration-color: #000000\">│</span>\n",
       "<span style=\"color: #000000; text-decoration-color: #000000\">│</span> <span style=\"color: #808000; text-decoration-color: #808000\">C:\\App\\ReactProject\\domains\\TimeCast\\server\\venv\\lib\\site-packages\\statsmodels\\base\\model.py</span>:<span style=\"color: #0000ff; text-decoration-color: #0000ff\">534</span> in <span style=\"color: #00ff00; text-decoration-color: #00ff00\">f</span>           <span style=\"color: #000000; text-decoration-color: #000000\">│</span>\n",
       "<span style=\"color: #000000; text-decoration-color: #000000\">│</span>                                                                                                                 <span style=\"color: #000000; text-decoration-color: #000000\">│</span>\n",
       "<span style=\"color: #000000; text-decoration-color: #000000\">│</span>   <span style=\"color: #7f7f7f; text-decoration-color: #7f7f7f\"> 533 </span>        <span style=\"color: #0000ff; text-decoration-color: #0000ff\">def</span> <span style=\"color: #00ff00; text-decoration-color: #00ff00\">f</span>(params, *args):                                                                            <span style=\"color: #000000; text-decoration-color: #000000\">│</span>\n",
       "<span style=\"color: #000000; text-decoration-color: #000000\">│</span> <span style=\"color: #800000; text-decoration-color: #800000\">❱ </span> 534             <span style=\"color: #0000ff; text-decoration-color: #0000ff\">return</span> -<span style=\"color: #00ffff; text-decoration-color: #00ffff\">self</span>.loglike(params, *args) / nobs                                                   <span style=\"color: #000000; text-decoration-color: #000000\">│</span>\n",
       "<span style=\"color: #000000; text-decoration-color: #000000\">│</span>   <span style=\"color: #7f7f7f; text-decoration-color: #7f7f7f\"> 535 </span>                                                                                                         <span style=\"color: #000000; text-decoration-color: #000000\">│</span>\n",
       "<span style=\"color: #000000; text-decoration-color: #000000\">│</span>                                                                                                                 <span style=\"color: #000000; text-decoration-color: #000000\">│</span>\n",
       "<span style=\"color: #000000; text-decoration-color: #000000\">│</span> <span style=\"color: #808000; text-decoration-color: #808000\">C:\\App\\ReactProject\\domains\\TimeCast\\server\\venv\\lib\\site-packages\\statsmodels\\tsa\\statespace\\mlemodel.py</span>:<span style=\"color: #0000ff; text-decoration-color: #0000ff\">934</span>   <span style=\"color: #000000; text-decoration-color: #000000\">│</span>\n",
       "<span style=\"color: #000000; text-decoration-color: #000000\">│</span> in <span style=\"color: #00ff00; text-decoration-color: #00ff00\">loglike</span>                                                                                                      <span style=\"color: #000000; text-decoration-color: #000000\">│</span>\n",
       "<span style=\"color: #000000; text-decoration-color: #000000\">│</span>                                                                                                                 <span style=\"color: #000000; text-decoration-color: #000000\">│</span>\n",
       "<span style=\"color: #000000; text-decoration-color: #000000\">│</span>   <span style=\"color: #7f7f7f; text-decoration-color: #7f7f7f\"> 933 </span>                                    includes_fixed=includes_fixed)                                       <span style=\"color: #000000; text-decoration-color: #000000\">│</span>\n",
       "<span style=\"color: #000000; text-decoration-color: #000000\">│</span> <span style=\"color: #800000; text-decoration-color: #800000\">❱ </span> 934         <span style=\"color: #00ffff; text-decoration-color: #00ffff\">self</span>.update(params, transformed=<span style=\"color: #0000ff; text-decoration-color: #0000ff\">True</span>, includes_fixed=<span style=\"color: #0000ff; text-decoration-color: #0000ff\">True</span>,                                       <span style=\"color: #000000; text-decoration-color: #000000\">│</span>\n",
       "<span style=\"color: #000000; text-decoration-color: #000000\">│</span>   <span style=\"color: #7f7f7f; text-decoration-color: #7f7f7f\"> 935 </span>                    complex_step=complex_step)                                                           <span style=\"color: #000000; text-decoration-color: #000000\">│</span>\n",
       "<span style=\"color: #000000; text-decoration-color: #000000\">│</span>                                                                                                                 <span style=\"color: #000000; text-decoration-color: #000000\">│</span>\n",
       "<span style=\"color: #000000; text-decoration-color: #000000\">│</span> <span style=\"color: #808000; text-decoration-color: #808000\">C:\\App\\ReactProject\\domains\\TimeCast\\server\\venv\\lib\\site-packages\\statsmodels\\tsa\\statespace\\sarimax.py</span>:<span style=\"color: #0000ff; text-decoration-color: #0000ff\">1658</span>   <span style=\"color: #000000; text-decoration-color: #000000\">│</span>\n",
       "<span style=\"color: #000000; text-decoration-color: #000000\">│</span> in <span style=\"color: #00ff00; text-decoration-color: #00ff00\">update</span>                                                                                                       <span style=\"color: #000000; text-decoration-color: #000000\">│</span>\n",
       "<span style=\"color: #000000; text-decoration-color: #000000\">│</span>                                                                                                                 <span style=\"color: #000000; text-decoration-color: #000000\">│</span>\n",
       "<span style=\"color: #000000; text-decoration-color: #000000\">│</span>   <span style=\"color: #7f7f7f; text-decoration-color: #7f7f7f\">1657 </span>            <span style=\"color: #0000ff; text-decoration-color: #0000ff\">if</span> <span style=\"color: #ff00ff; text-decoration-color: #ff00ff\">not</span> <span style=\"color: #00ffff; text-decoration-color: #00ffff\">self</span>.hamilton_representation:                                                         <span style=\"color: #000000; text-decoration-color: #000000\">│</span>\n",
       "<span style=\"color: #000000; text-decoration-color: #000000\">│</span> <span style=\"color: #800000; text-decoration-color: #800000\">❱ </span>1658                 <span style=\"color: #00ffff; text-decoration-color: #00ffff\">self</span>.ssm[<span style=\"color: #808000; text-decoration-color: #808000\">'state_intercept'</span>, <span style=\"color: #00ffff; text-decoration-color: #00ffff\">self</span>._k_states_diff, :] = data                               <span style=\"color: #000000; text-decoration-color: #000000\">│</span>\n",
       "<span style=\"color: #000000; text-decoration-color: #000000\">│</span>   <span style=\"color: #7f7f7f; text-decoration-color: #7f7f7f\">1659 </span>            <span style=\"color: #0000ff; text-decoration-color: #0000ff\">else</span>:                                                                                        <span style=\"color: #000000; text-decoration-color: #000000\">│</span>\n",
       "<span style=\"color: #000000; text-decoration-color: #000000\">│</span>                                                                                                                 <span style=\"color: #000000; text-decoration-color: #000000\">│</span>\n",
       "<span style=\"color: #000000; text-decoration-color: #000000\">│</span> <span style=\"color: #808000; text-decoration-color: #808000\">C:\\App\\ReactProject\\domains\\TimeCast\\server\\venv\\lib\\site-packages\\statsmodels\\tsa\\statespace\\representation.py</span> <span style=\"color: #000000; text-decoration-color: #000000\">│</span>\n",
       "<span style=\"color: #000000; text-decoration-color: #000000\">│</span> :<span style=\"color: #0000ff; text-decoration-color: #0000ff\">456</span> in <span style=\"color: #00ff00; text-decoration-color: #00ff00\">__setitem__</span>                                                                                             <span style=\"color: #000000; text-decoration-color: #000000\">│</span>\n",
       "<span style=\"color: #000000; text-decoration-color: #000000\">│</span>                                                                                                                 <span style=\"color: #000000; text-decoration-color: #000000\">│</span>\n",
       "<span style=\"color: #000000; text-decoration-color: #000000\">│</span>   <span style=\"color: #7f7f7f; text-decoration-color: #7f7f7f\"> 455 </span>            <span style=\"color: #7f7f7f; text-decoration-color: #7f7f7f\"># Set the new value</span>                                                                          <span style=\"color: #000000; text-decoration-color: #000000\">│</span>\n",
       "<span style=\"color: #000000; text-decoration-color: #000000\">│</span> <span style=\"color: #800000; text-decoration-color: #800000\">❱ </span> 456             matrix[slice_] = value                                                                       <span style=\"color: #000000; text-decoration-color: #000000\">│</span>\n",
       "<span style=\"color: #000000; text-decoration-color: #000000\">│</span>   <span style=\"color: #7f7f7f; text-decoration-color: #7f7f7f\"> 457 </span>            <span style=\"color: #00ffff; text-decoration-color: #00ffff\">setattr</span>(<span style=\"color: #00ffff; text-decoration-color: #00ffff\">self</span>, name, matrix)                                                                  <span style=\"color: #000000; text-decoration-color: #000000\">│</span>\n",
       "<span style=\"color: #000000; text-decoration-color: #000000\">╰─────────────────────────────────────────────────────────────────────────────────────────────────────────────────╯</span>\n",
       "<span style=\"color: #ff0000; text-decoration-color: #ff0000; font-weight: bold\">KeyboardInterrupt</span>\n",
       "</pre>\n"
      ]
     },
     "metadata": {},
     "output_type": "display_data"
    }
   ],
   "execution_count": 11
  },
  {
   "cell_type": "markdown",
   "id": "20f4fa46-c3b2-4a7f-9fc8-5089920b5874",
   "metadata": {},
   "source": [
    "## Инференс классическими моделями"
   ]
  },
  {
   "cell_type": "code",
   "id": "46983b77-c127-41f3-a9f0-bc5fbd5794ea",
   "metadata": {
    "scrolled": true,
    "ExecuteTime": {
     "end_time": "2024-12-22T23:28:11.128384Z",
     "start_time": "2024-12-22T23:26:40.582280Z"
    }
   },
   "source": [
    "classic_inferenec_pipeline = validate_with_pydantic(EntryClassicInferencePipeline)(ClassicInferencePipeline)(\n",
    "    entry = {\n",
    "        \"dataset\": {\n",
    "            \"store_id\": \"STORE_1\",\n",
    "            \"shop_sales\": \"./data/shop_sales.csv\",\n",
    "            \"shop_sales_dates\": \"./data/shop_sales_dates.csv\",\n",
    "            \"shop_sales_prices\": \"./data/shop_sales_prices.csv\"\n",
    "        },\n",
    "        \"inference\": {\n",
    "            \"dictseasonal\": {\n",
    "                \"week\": 7,\n",
    "                \"month\": 30,\n",
    "                \"quarter\": 90\n",
    "            },\n",
    "            \"future_or_estimate\": \"estimate\" # future\n",
    "        }\n",
    "    }\n",
    ")"
   ],
   "outputs": [
    {
     "name": "stderr",
     "output_type": "stream",
     "text": [
      "  0%|          | 0/15 [00:00<?, ?ItemID/s]02:26:45 - cmdstanpy - INFO - Chain [1] start processing\n",
      "02:26:45 - cmdstanpy - INFO - Chain [1] done processing\n",
      "02:26:47 - cmdstanpy - INFO - Chain [1] start processing\n",
      "02:26:47 - cmdstanpy - INFO - Chain [1] done processing\n",
      "Processing STORE_1_064:   7%|▋         | 1/15 [00:02<00:40,  2.91s/ItemID]02:26:58 - cmdstanpy - INFO - Chain [1] start processing\n",
      "02:26:58 - cmdstanpy - INFO - Chain [1] done processing\n",
      "Processing STORE_1_090:  20%|██        | 3/15 [00:17<01:11,  5.98s/ItemID]02:27:04 - cmdstanpy - INFO - Chain [1] start processing\n",
      "02:27:04 - cmdstanpy - INFO - Chain [1] done processing\n",
      "02:27:05 - cmdstanpy - INFO - Chain [1] start processing\n",
      "02:27:05 - cmdstanpy - INFO - Chain [1] done processing\n",
      "Processing STORE_1_252:  27%|██▋       | 4/15 [00:20<00:51,  4.65s/ItemID]02:27:14 - cmdstanpy - INFO - Chain [1] start processing\n",
      "02:27:14 - cmdstanpy - INFO - Chain [1] done processing\n",
      "Processing STORE_1_325:  33%|███▎      | 5/15 [00:30<01:04,  6.46s/ItemID]02:27:15 - cmdstanpy - INFO - Chain [1] start processing\n",
      "02:27:15 - cmdstanpy - INFO - Chain [1] done processing\n",
      "02:27:15 - cmdstanpy - INFO - Chain [1] start processing\n",
      "02:27:15 - cmdstanpy - INFO - Chain [1] done processing\n",
      "Processing STORE_1_546:  53%|█████▎    | 8/15 [00:53<00:57,  8.17s/ItemID]02:27:39 - cmdstanpy - INFO - Chain [1] start processing\n",
      "02:27:39 - cmdstanpy - INFO - Chain [1] done processing\n",
      "Processing STORE_1_547:  60%|██████    | 9/15 [00:54<00:34,  5.77s/ItemID]02:27:41 - cmdstanpy - INFO - Chain [1] start processing\n",
      "02:27:41 - cmdstanpy - INFO - Chain [1] done processing\n",
      "02:27:41 - cmdstanpy - INFO - Chain [1] start processing\n",
      "02:27:41 - cmdstanpy - INFO - Chain [1] done processing\n",
      "Processing STORE_1_555:  67%|██████▋   | 10/15 [00:56<00:23,  4.76s/ItemID]02:27:42 - cmdstanpy - INFO - Chain [1] start processing\n",
      "02:27:42 - cmdstanpy - INFO - Chain [1] done processing\n",
      "Processing STORE_1_584:  73%|███████▎  | 11/15 [00:59<00:16,  4.15s/ItemID]02:27:46 - cmdstanpy - INFO - Chain [1] start processing\n",
      "02:27:47 - cmdstanpy - INFO - Chain [1] done processing\n",
      "Processing STORE_1_727: 100%|██████████| 15/15 [01:16<00:00,  5.08s/ItemID]\n"
     ]
    }
   ],
   "execution_count": 12
  },
  {
   "cell_type": "markdown",
   "id": "4e835203-e32a-4e88-8308-5a221e7ca79c",
   "metadata": {},
   "source": [
    "## Обучение неклассических моделей\n",
    "\n",
    "<span style=\"color: green;\">Shift+Tab по классу NeiroGraduate для просмотра pydantic модели с примерами</span></br>"
   ]
  },
  {
   "cell_type": "code",
   "execution_count": 13,
   "id": "129639ea-be38-4b34-9171-9e3ed16229c8",
   "metadata": {
    "scrolled": true
   },
   "outputs": [
    {
     "data": {
      "text/html": [
       "<pre style=\"white-space:pre;overflow-x:auto;line-height:normal;font-family:Menlo,'DejaVu Sans Mono',consolas,'Courier New',monospace\"><span style=\"color: #7fbfbf; text-decoration-color: #7fbfbf\">16:13:02-668004 </span><span style=\"color: #000080; text-decoration-color: #000080\">INFO    </span> Обучаем модели для товара: STORE_1_064                                                    \n",
       "</pre>\n"
      ],
      "text/plain": [
       "\u001B[2;36m16:13:02-668004\u001B[0m\u001B[2;36m \u001B[0m\u001B[34mINFO    \u001B[0m Обучаем модели для товара: STORE_1_064                                                    \n"
      ]
     },
     "metadata": {},
     "output_type": "display_data"
    },
    {
     "data": {
      "text/html": [
       "<pre style=\"white-space:pre;overflow-x:auto;line-height:normal;font-family:Menlo,'DejaVu Sans Mono',consolas,'Courier New',monospace\"><span style=\"color: #7fbfbf; text-decoration-color: #7fbfbf\">16:13:02-670004 </span><span style=\"color: #000080; text-decoration-color: #000080\">INFO    </span> Период: week                                                                              \n",
       "</pre>\n"
      ],
      "text/plain": [
       "\u001B[2;36m16:13:02-670004\u001B[0m\u001B[2;36m \u001B[0m\u001B[34mINFO    \u001B[0m Период: week                                                                              \n"
      ]
     },
     "metadata": {},
     "output_type": "display_data"
    },
    {
     "name": "stdout",
     "output_type": "stream",
     "text": [
      "Non-A100 GPU detected, using math or mem efficient attention if input tensor is on cuda\n"
     ]
    },
    {
     "data": {
      "text/html": [
       "<pre style=\"white-space:pre;overflow-x:auto;line-height:normal;font-family:Menlo,'DejaVu Sans Mono',consolas,'Courier New',monospace\"><span style=\"color: #7fbfbf; text-decoration-color: #7fbfbf\">16:13:11-900684 </span><span style=\"color: #000080; text-decoration-color: #000080\">INFO    </span> Не найден файл с моделью                                                                  \n",
       "</pre>\n"
      ],
      "text/plain": [
       "\u001B[2;36m16:13:11-900684\u001B[0m\u001B[2;36m \u001B[0m\u001B[34mINFO    \u001B[0m Не найден файл с моделью                                                                  \n"
      ]
     },
     "metadata": {},
     "output_type": "display_data"
    },
    {
     "name": "stdout",
     "output_type": "stream",
     "text": [
      "\n"
     ]
    },
    {
     "name": "stderr",
     "output_type": "stream",
     "text": [
      "\n",
      "\n",
      "KeyboardInterrupt\n",
      "\n",
      "██████████▍                              | 23/90 [00:01<00:05, 11.65 sample/s, epoch=1, loss=1.09]"
     ]
    }
   ],
   "source": [
    "neiro_graduate_pipeline = validate_with_pydantic(EntryNeiroGraduatePipeline)(NeiroGraduatePipeline)(\n",
    "    entry = {\n",
    "        \"dataset\": {\n",
    "            \"store_id\": \"STORE_1\",\n",
    "            \"shop_sales\": \"./data/shop_sales.csv\",\n",
    "            \"shop_sales_dates\": \"./data/shop_sales_dates.csv\",\n",
    "            \"shop_sales_prices\": \"./data/shop_sales_prices.csv\"\n",
    "        },\n",
    "        \"graduate\": { \n",
    "            \"dictseasonal\": {\n",
    "                'week': 7,\n",
    "                'month': 30,\n",
    "                'quater': 90\n",
    "            },\n",
    "            \"dictmodels\": {\n",
    "              \"IFFT\": {\n",
    "                  \"num_variates\": 7,\n",
    "                  \"num_tokens_per_variate\": 1,\n",
    "                  \"dim\": 512,\n",
    "                  \"depth\": 6,\n",
    "                  \"heads\": 8,\n",
    "                  \"dim_head\": 64,\n",
    "                  \"use_reversible_instance_norm\": True\n",
    "        }\n",
    "      }\n",
    "    }\n",
    "  }\n",
    ")"
   ]
  },
  {
   "cell_type": "markdown",
   "id": "cf70ebc9-ee28-4aad-9a69-0736506fc7e6",
   "metadata": {},
   "source": [
    "## Инференс неклассическими моделями\n",
    "\n",
    "<span style=\"color: green;\">Shift+Tab по классу NeiroInference для просмотра pydantic модели с примерами</span></br>"
   ]
  },
  {
   "cell_type": "code",
   "execution_count": 8,
   "id": "23c1ef58-0347-4806-b936-7b156eeec980",
   "metadata": {},
   "outputs": [
    {
     "name": "stdout",
     "output_type": "stream",
     "text": [
      "Non-A100 GPU detected, using math or mem efficient attention if input tensor is on cuda\n"
     ]
    },
    {
     "name": "stderr",
     "output_type": "stream",
     "text": [
      "\n",
      "rocessing STORE_1_727: 100%|██████████████████████████████████████████████████████| 15/15 [00:01<00:00,  9.33ItemID/s]"
     ]
    }
   ],
   "source": [
    "neiro_inference_pipeline = validate_with_pydantic(EntryNeiroInferencePipeline)(NeiroInferencePipeline)(\n",
    "    entry = {\n",
    "        \"dataset\": {\n",
    "            \"store_id\": \"STORE_1\",\n",
    "            \"shop_sales\": \"./data/shop_sales.csv\",\n",
    "            \"shop_sales_dates\": \"./data/shop_sales_dates.csv\",\n",
    "            \"shop_sales_prices\": \"./data/shop_sales_prices.csv\"\n",
    "        },\n",
    "        \"inference\": { \n",
    "            \"dictseasonal\": {\n",
    "                'week': 7,\n",
    "                'month': 30,\n",
    "                'quater': 90\n",
    "            },\n",
    "            \"dictmodels\": {\n",
    "              \"IFFT\": {\n",
    "                  \"num_variates\": 7,\n",
    "                  \"num_tokens_per_variate\": 1,\n",
    "                  \"dim\": 256,\n",
    "                  \"depth\": 6,\n",
    "                  \"heads\": 8,\n",
    "                  \"dim_head\": 64,\n",
    "                  \"use_reversible_instance_norm\": True\n",
    "              }\n",
    "          },\n",
    "           \"future_or_estimate\": \"estimate\" # future\n",
    "        }\n",
    "    }\n",
    ")"
   ]
  }
 ],
 "metadata": {
  "kernelspec": {
   "display_name": "Python 3 (ipykernel)",
   "language": "python",
   "name": "python3"
  },
  "language_info": {
   "codemirror_mode": {
    "name": "ipython",
    "version": 3
   },
   "file_extension": ".py",
   "mimetype": "text/x-python",
   "name": "python",
   "nbconvert_exporter": "python",
   "pygments_lexer": "ipython3",
   "version": "3.9.21"
  }
 },
 "nbformat": 4,
 "nbformat_minor": 5
}
